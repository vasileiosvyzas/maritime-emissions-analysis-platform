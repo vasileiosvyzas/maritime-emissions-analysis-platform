{
 "cells": [
  {
   "cell_type": "code",
   "execution_count": 1,
   "metadata": {},
   "outputs": [],
   "source": [
    "import wikipedia\n",
    "\n",
    "import pandas as pd\n",
    "import numpy as np\n",
    "\n",
    "from bs4 import BeautifulSoup\n",
    "from difflib import SequenceMatcher"
   ]
  },
  {
   "cell_type": "code",
   "execution_count": 2,
   "metadata": {},
   "outputs": [
    {
     "name": "stderr",
     "output_type": "stream",
     "text": [
      "/Users/vasileiosvyzas/miniconda3/envs/carbonchain_env/lib/python3.9/site-packages/openpyxl/styles/stylesheet.py:226: UserWarning: Workbook contains no default style, apply openpyxl's default\n",
      "  warn(\"Workbook contains no default style, apply openpyxl's default\")\n"
     ]
    }
   ],
   "source": [
    "df = pd.read_excel('../data/raw/2023-v12-04092024-EU MRV Publication of information.xlsx', header=2)"
   ]
  },
  {
   "cell_type": "code",
   "execution_count": 17,
   "metadata": {},
   "outputs": [],
   "source": [
    "def similar(a, b):\n",
    "    return SequenceMatcher(None, a, b).ratio()"
   ]
  },
  {
   "cell_type": "code",
   "execution_count": null,
   "metadata": {},
   "outputs": [],
   "source": [
    "def get_wikipedia_page(page_title: str):\n",
    "    page_object = wikipedia.page(page_title)\n",
    "    html_page = page_object.html()\n",
    "    \n",
    "    return html_page"
   ]
  },
  {
   "cell_type": "code",
   "execution_count": 28,
   "metadata": {},
   "outputs": [
    {
     "name": "stdout",
     "output_type": "stream",
     "text": [
      "1007213 OCTOPUS\n",
      "['Octopus (yacht)']\n",
      "\n",
      "6602898 OCEAN MAJESTY\n",
      "['MV Ocean Majesty']\n",
      "\n",
      "7037806 IONIAN STAR\n",
      "['MS Ionian Star']\n",
      "\n",
      "7043843 TALOS\n",
      "7207451 SPORADES STAR\n",
      "['MV Sporades Star']\n",
      "\n",
      "7226952 FJARDVAGEN\n",
      "\n",
      "7230599 MARKO POLO\n",
      "7310507 FIDELITY\n",
      "7325095 LAMPEDUSA\n",
      "7346221 SUPERSTAR\n",
      "7349039 CORSICA MARINA SECONDA\n",
      "7350090 MOBY NIKI\n",
      "['MS Moby Niki']\n",
      "\n",
      "7358755 MOBY KISS\n",
      "7360605 MOBY VINCENT\n",
      "7360681 MOBY BABY TWO\n",
      "7361312 MOBY DREA\n",
      "['MS Moby Drea']\n",
      "\n",
      "7361324 MOBY OTTA\n",
      "['MS Moby Otta']\n",
      "\n",
      "7422881 YEOMAN BANK\n",
      "7426045 KEFALONIA\n",
      "7429669 AQUA BLUE\n",
      "7432733 AGIOS GEORGIOS\n",
      "7516773 GALAXY\n",
      "7527887 SMYRNA DI LEVANTE\n",
      "7528611 PELAGITIS\n",
      "['MV Pelagitis']\n",
      "\n",
      "7528635 CENK T\n",
      "\n"
     ]
    }
   ],
   "source": [
    "ships_not_found = []\n",
    "for index, row in df[['IMO Number', 'Name']].head(25).iterrows():\n",
    "    print(row['IMO Number'], row['Name'])\n",
    "    result = wikipedia.search(f\"IMO number: {row['IMO Number']}\", results = 1)\n",
    "    \n",
    "    if not result:\n",
    "        ships_not_found.append(row['IMO Number'])\n",
    "        continue\n",
    "    \n",
    "    if similar(row['Name'].lower(), result[0].lower()) > 0.6:\n",
    "        print(result)\n",
    "        article_html_page = get_wikipedia_page(result[0])\n",
    "    print()"
   ]
  },
  {
   "cell_type": "code",
   "execution_count": 37,
   "metadata": {},
   "outputs": [
    {
     "name": "stdout",
     "output_type": "stream",
     "text": [
      "<bound method WikipediaPage.html of <WikipediaPage 'MV Ocean Majesty'>>\n",
      "MV Ocean Majesty\n",
      "['Balearic Islands', 'Cruise ship', 'Cyprus', 'Epirotiki', 'Ferry', 'Greece', 'Gross register tonnage', 'Hansa Touristik', 'IMO number', 'Knot (unit)']\n"
     ]
    }
   ],
   "source": [
    "# wikipedia page object is created\n",
    "page_object = wikipedia.page(\"MV Ocean Majesty\")\n",
    " \n",
    "# printing html of page_object\n",
    "print(page_object.html)\n",
    " \n",
    "# printing title\n",
    "print(page_object.original_title)\n",
    " \n",
    "# printing links on that page object\n",
    "print(page_object.links[0:10])"
   ]
  },
  {
   "cell_type": "code",
   "execution_count": 38,
   "metadata": {},
   "outputs": [],
   "source": [
    "html_page = page_object.html()"
   ]
  },
  {
   "cell_type": "code",
   "execution_count": 39,
   "metadata": {},
   "outputs": [],
   "source": [
    "soup = BeautifulSoup(html_page, \"html.parser\")"
   ]
  },
  {
   "cell_type": "code",
   "execution_count": 40,
   "metadata": {},
   "outputs": [],
   "source": [
    "table = soup.find('table', attrs={'class':'infobox'})\n",
    "table_body = table.find('tbody')"
   ]
  },
  {
   "cell_type": "code",
   "execution_count": 45,
   "metadata": {},
   "outputs": [
    {
     "name": "stdout",
     "output_type": "stream",
     "text": [
      "['Name', '1966–1985: Juan March\\n1985–1986: Sol Christina\\n1986–1988: Kypros Star\\n1988–1994: Ocean Majesty\\n1994–1995: Olympic\\n1995: Homeric\\n1995–present: Ocean Majesty']\n",
      "['Owner', '1966–1985: Trasmediterránea\\n1985–1986: Sol Mediterranean\\n1986–1987: Opale Lines\\n1989 – present: Majestic International Cruises']\n",
      "['Port of registry', '1966–1985: Valencia, \\xa0Spain\\n1985–1989: Limassol, \\xa0Cyprus\\n1989–2003: Piraeus, \\xa0Greece\\n2003–2022: Madeira, \\xa0Portugal']\n",
      "['Builder', 'Unión Naval de Levante\\xa0[es]']\n",
      "['Yard number', '93[1]']\n",
      "['Launched', '4 December 1965[1]']\n",
      "['Acquired', '27 July 1966[1]']\n",
      "['In service', '1966']\n",
      "['Identification', 'Call sign CQSC\\nIMO number:\\xa06602898\\nMMSI number: 255717000']\n",
      "['Status', 'In service']\n",
      "['Tonnage', '10,417\\xa0GRT']\n",
      "['Length', '135 metres (443\\xa0ft)']\n",
      "['Beam', '15.8 metres (52\\xa0ft)']\n",
      "['Speed', '18 knots']\n",
      "['Capacity', '535 (normal)\\n621 (maximum)']\n",
      "['Crew', '257']\n"
     ]
    }
   ],
   "source": [
    "ship_info = {}\n",
    "rows = table_body.find_all('tr', attrs={'style': 'vertical-align:top;'})\n",
    "for row in rows:\n",
    "    cols = row.find_all('td')\n",
    "    cols = [ele.text.strip() for ele in cols]\n",
    "    print(cols)\n",
    "    \n",
    "    if len(cols) == 2:\n",
    "        ship_info[cols[0]] = cols[1]\n",
    "    # data.append([ele for ele in cols if ele])"
   ]
  },
  {
   "cell_type": "code",
   "execution_count": 46,
   "metadata": {},
   "outputs": [
    {
     "data": {
      "text/plain": [
       "{'Name': '1966–1985: Juan March\\n1985–1986: Sol Christina\\n1986–1988: Kypros Star\\n1988–1994: Ocean Majesty\\n1994–1995: Olympic\\n1995: Homeric\\n1995–present: Ocean Majesty',\n",
       " 'Owner': '1966–1985: Trasmediterránea\\n1985–1986: Sol Mediterranean\\n1986–1987: Opale Lines\\n1989 – present: Majestic International Cruises',\n",
       " 'Port of registry': '1966–1985: Valencia, \\xa0Spain\\n1985–1989: Limassol, \\xa0Cyprus\\n1989–2003: Piraeus, \\xa0Greece\\n2003–2022: Madeira, \\xa0Portugal',\n",
       " 'Builder': 'Unión Naval de Levante\\xa0[es]',\n",
       " 'Yard number': '93[1]',\n",
       " 'Launched': '4 December 1965[1]',\n",
       " 'Acquired': '27 July 1966[1]',\n",
       " 'In service': '1966',\n",
       " 'Identification': 'Call sign CQSC\\nIMO number:\\xa06602898\\nMMSI number: 255717000',\n",
       " 'Status': 'In service',\n",
       " 'Tonnage': '10,417\\xa0GRT',\n",
       " 'Length': '135 metres (443\\xa0ft)',\n",
       " 'Beam': '15.8 metres (52\\xa0ft)',\n",
       " 'Speed': '18 knots',\n",
       " 'Capacity': '535 (normal)\\n621 (maximum)',\n",
       " 'Crew': '257'}"
      ]
     },
     "execution_count": 46,
     "metadata": {},
     "output_type": "execute_result"
    }
   ],
   "source": [
    "ship_info"
   ]
  }
 ],
 "metadata": {
  "kernelspec": {
   "display_name": "carbonchain_env",
   "language": "python",
   "name": "python3"
  },
  "language_info": {
   "codemirror_mode": {
    "name": "ipython",
    "version": 3
   },
   "file_extension": ".py",
   "mimetype": "text/x-python",
   "name": "python",
   "nbconvert_exporter": "python",
   "pygments_lexer": "ipython3",
   "version": "3.9.16"
  }
 },
 "nbformat": 4,
 "nbformat_minor": 2
}
