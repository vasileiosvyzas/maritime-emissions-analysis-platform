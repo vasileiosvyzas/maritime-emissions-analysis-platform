{
 "cells": [
  {
   "cell_type": "code",
   "execution_count": 1,
   "metadata": {},
   "outputs": [],
   "source": [
    "import wikipedia\n",
    "import json\n",
    "import time\n",
    "import os\n",
    "\n",
    "import pandas as pd\n",
    "import numpy as np\n",
    "import boto3\n",
    "import awswrangler as wr\n",
    "\n",
    "from bs4 import BeautifulSoup\n",
    "from difflib import SequenceMatcher"
   ]
  },
  {
   "cell_type": "markdown",
   "metadata": {},
   "source": [
    "# Get the list of IMO numbers from the database"
   ]
  },
  {
   "cell_type": "code",
   "execution_count": 2,
   "metadata": {},
   "outputs": [],
   "source": [
    "DATABASE = \"\"\n",
    "TABLE = \"\"\n",
    "OUTPUT_LOCATION = \"\""
   ]
  },
  {
   "cell_type": "code",
   "execution_count": 3,
   "metadata": {},
   "outputs": [],
   "source": [
    "my_session = boto3.session.Session(\n",
    "    region_name=os.environ['REGION'], \n",
    "    aws_access_key_id=os.environ['ACCESS_KEY'], \n",
    "    aws_secret_access_key=os.environ['SECRET']\n",
    ")"
   ]
  },
  {
   "cell_type": "code",
   "execution_count": 11,
   "metadata": {},
   "outputs": [],
   "source": [
    "query = f\"\"\"\n",
    "    WITH latest_versions AS (\n",
    "        SELECT CAST(year AS INTEGER) AS year, MAX(CAST(version AS INTEGER)) AS latest_version\n",
    "        FROM \"{DATABASE}\".\"{TABLE}\"\n",
    "        GROUP BY CAST(year AS INTEGER)\n",
    "    ),\n",
    "\n",
    "    latest_data AS (\n",
    "        SELECT *\n",
    "        FROM \"{DATABASE}\".\"{TABLE}\" se\n",
    "        JOIN latest_versions lv\n",
    "        ON CAST(se.year AS INT) = lv.year\n",
    "        AND CAST(se.version AS INT) = lv.latest_version\n",
    "    )\n",
    "    \n",
    "    SELECT DISTINCT imo_number, name FROM latest_data;\n",
    "\"\"\""
   ]
  },
  {
   "cell_type": "code",
   "execution_count": 12,
   "metadata": {},
   "outputs": [],
   "source": [
    "distinc_imo_numbers = wr.athena.read_sql_query(query, database=DATABASE, boto3_session=my_session)"
   ]
  },
  {
   "cell_type": "code",
   "execution_count": 6,
   "metadata": {},
   "outputs": [
    {
     "data": {
      "text/html": [
       "<div>\n",
       "<style scoped>\n",
       "    .dataframe tbody tr th:only-of-type {\n",
       "        vertical-align: middle;\n",
       "    }\n",
       "\n",
       "    .dataframe tbody tr th {\n",
       "        vertical-align: top;\n",
       "    }\n",
       "\n",
       "    .dataframe thead th {\n",
       "        text-align: right;\n",
       "    }\n",
       "</style>\n",
       "<table border=\"1\" class=\"dataframe\">\n",
       "  <thead>\n",
       "    <tr style=\"text-align: right;\">\n",
       "      <th></th>\n",
       "      <th>imo_number</th>\n",
       "      <th>name</th>\n",
       "    </tr>\n",
       "  </thead>\n",
       "  <tbody>\n",
       "    <tr>\n",
       "      <th>0</th>\n",
       "      <td>6703343</td>\n",
       "      <td>EQUALITY</td>\n",
       "    </tr>\n",
       "    <tr>\n",
       "      <th>1</th>\n",
       "      <td>7225910</td>\n",
       "      <td>AEGEAN ODYSSEY</td>\n",
       "    </tr>\n",
       "    <tr>\n",
       "      <th>2</th>\n",
       "      <td>7230599</td>\n",
       "      <td>MARKO POLO</td>\n",
       "    </tr>\n",
       "    <tr>\n",
       "      <th>3</th>\n",
       "      <td>7304314</td>\n",
       "      <td>ALBATROS</td>\n",
       "    </tr>\n",
       "    <tr>\n",
       "      <th>4</th>\n",
       "      <td>7346221</td>\n",
       "      <td>SUPERFERRY II</td>\n",
       "    </tr>\n",
       "  </tbody>\n",
       "</table>\n",
       "</div>"
      ],
      "text/plain": [
       "   imo_number            name\n",
       "0     6703343        EQUALITY\n",
       "1     7225910  AEGEAN ODYSSEY\n",
       "2     7230599      MARKO POLO\n",
       "3     7304314        ALBATROS\n",
       "4     7346221   SUPERFERRY II"
      ]
     },
     "execution_count": 6,
     "metadata": {},
     "output_type": "execute_result"
    }
   ],
   "source": [
    "distinc_imo_numbers.head()"
   ]
  },
  {
   "cell_type": "code",
   "execution_count": 13,
   "metadata": {},
   "outputs": [
    {
     "data": {
      "text/plain": [
       "(24738, 2)"
      ]
     },
     "execution_count": 13,
     "metadata": {},
     "output_type": "execute_result"
    }
   ],
   "source": [
    "distinc_imo_numbers.shape"
   ]
  },
  {
   "cell_type": "markdown",
   "metadata": {},
   "source": [
    "# Filter out the IMO numbers I haven't run through the parser before"
   ]
  },
  {
   "cell_type": "code",
   "execution_count": 21,
   "metadata": {},
   "outputs": [],
   "source": [
    "with open('../data/raw/ship_particulars/wikipedia_ship_data.json') as f:\n",
    "    wikipedia_data = json.load(f)"
   ]
  },
  {
   "cell_type": "code",
   "execution_count": 22,
   "metadata": {},
   "outputs": [],
   "source": [
    "with open('../data/raw/ship_particulars/kaggle_ship_data.json') as f:\n",
    "    kaggle_data = json.load(f)"
   ]
  },
  {
   "cell_type": "code",
   "execution_count": 23,
   "metadata": {},
   "outputs": [],
   "source": [
    "with open('../data/raw/ship_particulars/sflcorp_fleet.json') as f:\n",
    "    sflcorp_data = json.load(f)"
   ]
  },
  {
   "cell_type": "code",
   "execution_count": 24,
   "metadata": {},
   "outputs": [],
   "source": [
    "with open('../data/raw/ship_particulars/pleiades_fleet.json') as f:\n",
    "    pleiades_data = json.load(f)"
   ]
  },
  {
   "cell_type": "code",
   "execution_count": 25,
   "metadata": {},
   "outputs": [],
   "source": [
    "with open('../data/raw/ship_particulars/cmb-tech-fleet.json') as f:\n",
    "    cmb_tech_data = json.load(f)"
   ]
  },
  {
   "cell_type": "code",
   "execution_count": 26,
   "metadata": {},
   "outputs": [],
   "source": [
    "ships_acquired = wikipedia_data | kaggle_data | sflcorp_data | pleiades_data | cmb_tech_data"
   ]
  },
  {
   "cell_type": "code",
   "execution_count": 27,
   "metadata": {},
   "outputs": [],
   "source": [
    "imo_ships_acquired = list(map(int, ships_acquired.keys()))"
   ]
  },
  {
   "cell_type": "code",
   "execution_count": 28,
   "metadata": {},
   "outputs": [
    {
     "data": {
      "text/plain": [
       "4351"
      ]
     },
     "execution_count": 28,
     "metadata": {},
     "output_type": "execute_result"
    }
   ],
   "source": [
    "len(imo_ships_acquired)"
   ]
  },
  {
   "cell_type": "code",
   "execution_count": 61,
   "metadata": {},
   "outputs": [
    {
     "ename": "TypeError",
     "evalue": "'NoneType' object is not iterable",
     "output_type": "error",
     "traceback": [
      "\u001b[0;31m---------------------------------------------------------------------------\u001b[0m",
      "\u001b[0;31mTypeError\u001b[0m                                 Traceback (most recent call last)",
      "Cell \u001b[0;32mIn[61], line 1\u001b[0m\n\u001b[0;32m----> 1\u001b[0m imo_numbers_to_query \u001b[38;5;241m=\u001b[39m \u001b[38;5;28mset\u001b[39m(distinc_imo_numbers[\u001b[38;5;124m'\u001b[39m\u001b[38;5;124mimo_number\u001b[39m\u001b[38;5;124m'\u001b[39m]\u001b[38;5;241m.\u001b[39mto_list())\u001b[38;5;241m.\u001b[39mdifference(\u001b[38;5;28;43mset\u001b[39;49m\u001b[43m(\u001b[49m\u001b[43mimo_ships_acquired\u001b[49m\u001b[38;5;241;43m.\u001b[39;49m\u001b[43mextend\u001b[49m\u001b[43m(\u001b[49m\u001b[43mships_not_found\u001b[49m\u001b[43m)\u001b[49m\u001b[43m)\u001b[49m)\n",
      "\u001b[0;31mTypeError\u001b[0m: 'NoneType' object is not iterable"
     ]
    }
   ],
   "source": [
    "imo_numbers_to_query = set(distinc_imo_numbers['imo_number'].to_list()).difference(set(imo_ships_acquired.extend(ships_not_found)))"
   ]
  },
  {
   "cell_type": "code",
   "execution_count": 30,
   "metadata": {},
   "outputs": [
    {
     "data": {
      "text/plain": [
       "16774"
      ]
     },
     "execution_count": 30,
     "metadata": {},
     "output_type": "execute_result"
    }
   ],
   "source": [
    "len(imo_numbers_to_query)"
   ]
  },
  {
   "cell_type": "markdown",
   "metadata": {},
   "source": [
    "# Start querying wikipedia for the ships we don't have any information on"
   ]
  },
  {
   "cell_type": "code",
   "execution_count": 31,
   "metadata": {},
   "outputs": [],
   "source": [
    "def similar(a, b):\n",
    "    return SequenceMatcher(None, a, b).ratio()"
   ]
  },
  {
   "cell_type": "code",
   "execution_count": 32,
   "metadata": {},
   "outputs": [],
   "source": [
    "def get_wikipedia_page(page_title: str):\n",
    "    print('Page title: ', page_title)\n",
    "    page_object = wikipedia.page(page_title, auto_suggest=False)\n",
    "    html_page = page_object.html()\n",
    "    \n",
    "    return html_page"
   ]
  },
  {
   "cell_type": "code",
   "execution_count": 33,
   "metadata": {},
   "outputs": [],
   "source": [
    "def get_info_box_from_article(html_page):\n",
    "    soup = BeautifulSoup(html_page, \"html.parser\")\n",
    "    table = soup.find('table', attrs={'class':'infobox'})\n",
    "    table_body = table.find('tbody')\n",
    "    \n",
    "    ship_info_dict = {}\n",
    "    rows = table_body.find_all('tr', attrs={'style': 'vertical-align:top;'})\n",
    "    for row in rows:\n",
    "        cols = row.find_all('td')\n",
    "        cols = [ele.text.strip() for ele in cols]\n",
    "        \n",
    "        if len(cols) == 2:\n",
    "            ship_info_dict[cols[0]] = cols[1]\n",
    "    \n",
    "    return ship_info_dict\n"
   ]
  },
  {
   "cell_type": "code",
   "execution_count": 67,
   "metadata": {},
   "outputs": [],
   "source": [
    "distinc_imo_numbers_subset = distinc_imo_numbers[distinc_imo_numbers['imo_number'].isin(imo_numbers_to_query)].copy()"
   ]
  },
  {
   "cell_type": "code",
   "execution_count": 68,
   "metadata": {},
   "outputs": [
    {
     "data": {
      "text/plain": [
       "(19043, 2)"
      ]
     },
     "execution_count": 68,
     "metadata": {},
     "output_type": "execute_result"
    }
   ],
   "source": [
    "distinc_imo_numbers_subset.shape"
   ]
  },
  {
   "cell_type": "code",
   "execution_count": 69,
   "metadata": {},
   "outputs": [
    {
     "name": "stdout",
     "output_type": "stream",
     "text": [
      "4   7602120   AURELIA\n",
      "\n",
      "12   7901265   ROSELLA\n",
      "\n",
      "138   9125372   CELESTINE\n",
      "\n",
      "147   9129263   BALTIC BRIGHT\n",
      "\n",
      "148   9131527   EUROCARGO PATRASSO\n",
      "\n",
      "156   9138393   GRANDE MEDITERRANEO\n",
      "\n",
      "157   9138422   REPUBBLICA DEL BRASILE\n",
      "\n",
      "199   9166778   MSC ABY\n",
      "\n",
      "210   9173068   CLIPPER HARALD\n",
      "\n",
      "281   9215476   GALLIPOLI SEAWAYS\n",
      "\n",
      "283   9216298   LNG RIVERS\n",
      "\n",
      "284   9216303   LNG SOKOTO\n",
      "\n",
      "310   9226504   TEOMAN A\n",
      "\n",
      "323   9229910   NORDNES\n",
      "\n",
      "335   9232890   MSC ENGLAND\n",
      "\n",
      "371   9243174   MIRADOR EXPRESS\n",
      "\n",
      "378   9246607   GRANDE AMBURGO\n",
      "\n",
      "429   9263655   ATHARA\n",
      "\n",
      "535   9388209   PS HOUSTON\n",
      "\n",
      "593   9399052   MSC EMANUELA\n",
      "\n",
      "617   9402471   FULMAR\n",
      "\n",
      "666   9410753   CMA CGM CALLISTO\n",
      "\n",
      "711   9421075   MANISA BELLA / LENNEBORG\n",
      "\n",
      "760   9430272   CELSIUS ROSKILDE\n",
      "\n",
      "769   9431707   NAVIOS DORADO\n",
      "770   9431836   HOEGH BEIJING\n",
      "771   9432048   DEMETRIOS\n",
      "772   9432139   PARANDOWSKI\n",
      "774   9432206   BELTNES\n",
      "775   9432464   DENSA LION\n",
      "776   9432517   SIDER MONICA\n",
      "777   9433262   HUDSONGRACHT\n",
      "778   9433303   LOKHOLMEN\n",
      "779   9433585   PINK STARS\n",
      "780   9433626   ETERNAL BLISS\n",
      "782   9434230   TORM SINGAPORE\n",
      "784   9434761   AMELAND\n",
      "785   9434802   CONTSHIP VIE\n",
      "786   9434929   MAERSK NIJMEGEN\n",
      "787   9434943   PUERTO LIMON EXPRESS\n",
      "789   9435105   ERIK\n",
      "791   9435325   AGVANIS\n",
      "792   9435557   OWL 4\n",
      "793   9435894   OVERSEAS MYKONOS\n",
      "794   9435909   OVERSEAS SANTORINI\n",
      "795   9436197   BG ONYX\n",
      "796   9436202   BG RUBY\n",
      "797   9436252   URA\n",
      "798   9436305   VERONICA B\n",
      "799   9436329   BBC VOLGA\n",
      "800   9436434   GUENTHER SCHULTE\n",
      "801   9436678   ICHESIA M\n",
      "802   9436733   INCE EGE\n",
      "803   9437141   ANNALISA P\n",
      "804   9437165   BBC BANGKOK\n",
      "805   9437323   UHL PASSION\n",
      "806   9437335   OCEAN GIANT\n",
      "807   9437919   GRANDE GUINEA\n",
      "808   9438169   BOMAR JUPITER\n",
      "809   9438482   CS SERVICE\n",
      "810   9438614   GOLDEN SUEK\n",
      "811   9438626   GOLDEN BULL\n",
      "812   9438949   IVER BITUMEN\n",
      "813   9439369   OWL 1\n",
      "814   9439498   BSG BAHAMAS\n",
      "815   9440100   NEPTUNE ILIAD\n",
      "816   9440320   MARAN GRACE\n",
      "817   9440382   MIKELA P.\n",
      "818   9440849   STAR LUNA\n",
      "819   9440930   PAQUETA ISLAND\n",
      "820   9441300   GANNET BULKER\n",
      "821   9441386   OWL\n",
      "822   9441570   HEROIC LEADER\n",
      "823   9441594   GLOVIS CARAVEL\n",
      "824   9441609   RCC CLASSIC\n",
      "825   9442017   SERENE SEA\n",
      "826   9442380   MAGIC VENUS\n",
      "\n",
      "827   9442392   FORTUNA\n",
      "828   9442548   ARIANE MAKARA\n",
      "829   9442550   GINGA LYNX\n",
      "832   9443059   EXPRESS BLACK SEA\n",
      "834   9443401   AAMIRA\n",
      "835   9443683   AL DAFNA\n",
      "836   9443774   SERVET ANA\n",
      "837   9443841   TIGRIS\n",
      "838   9443918   MACURU ARROW\n",
      "839   9444027   HL SINES\n",
      "840   9444479   SONGA RUBY\n",
      "841   9444716   SANTA CLARA\n",
      "842   9444912   HELGA\n",
      "843   9445540   BEGONIA S\n",
      "844   9445904   CELSIUS LIVERPOOL\n",
      "845   9446087   SAIKO\n",
      "846   9446104   SANTA MARTA EXPRESS\n",
      "847   9446881   ADRIA ACE\n",
      "848   9447287   FT STURLA\n",
      "849   9447847   MADRID EXPRESS\n",
      "['Madrid Express']\n",
      "Page title:  Madrid Express\n",
      "\n",
      "850   9447885   SOUTHAMPTON EXPRESS\n",
      "851   9448138   SILVER MOON\n",
      "852   9448322   VORIAS\n",
      "853   9448346   PALEISGRACHT\n",
      "855   9448504   GAZ PROVIDENCE\n",
      "856   9448671   BEATRIZ B\n",
      "857   9448748   COSCO JAPAN\n",
      "858   9449247   RHODOS\n",
      "859   9449340   FOUR AIDA\n",
      "860   9449467   PUERTO AYSEN\n",
      "861   9450325   NORTHERN PRELUDE\n",
      "862   9450399   PRAGUE EXPRESS\n",
      "863   9450662   FOUR OTELLO\n",
      "864   9450739   0543 MAPUTO\n",
      "865   9450844   KALLIOPI S\n",
      "867   9451355   DA HONG XIA\n",
      "870   9452218   STINNES MISTRAL\n",
      "871   9452505   SEAGULL\n",
      "872   9452543   THEMIS\n",
      "873   9452610   ORNAK\n",
      "874   9453391   SKAFIA WAVE\n",
      "875   9453731   BERGE TORRE\n",
      "876   9453781   PELAGICA\n",
      "877   9454216   HOLLUM\n",
      "878   9454228   BBC MARMARA\n",
      "879   9454242   SONDERBORG\n",
      "880   9454292   KEY FRONTIER\n",
      "881   9455545   MARAN SKY\n",
      "882   9455715   RCC PRESTIGE\n",
      "883   9455818   GLENDA MELODY\n",
      "884   9456070   BROADWAY\n",
      "885   9456537   VEGA\n",
      "886   9457024   NAVE COSMOS\n",
      "887   9457189   POL MARIS\n",
      "888   9457220   HAPPY SKY\n",
      "889   9457268   SEAFRONTIER\n",
      "891   9457713   PINE OLIA\n",
      "892   9457749   NAVE POLARIS\n",
      "893   9457763   ATHIRI\n",
      "895   9458078   MAERSK ELBA\n",
      "\n",
      "896   9458092   MAERSK ESSEX\n",
      "\n",
      "897   9458169   GAZ ENERGY\n",
      "898   9458432   HUANGHAI GLORY\n",
      "899   9458444   HUANGHAI DEVELOPER\n",
      "900   9458456   PACIFIC VICTOR\n",
      "902   9458808   NCC YANBU\n",
      "903   9458975   SKALAR\n",
      "904   9459022   NCC NAJEM\n",
      "905   9459149   IVS KINGLET\n",
      "906   9459412   HANSA EUROPE\n",
      "907   9459967   YULIA\n",
      "908   9459981   RUDDY\n",
      "910   9460083   WADI FERAN\n",
      "911   9460332   HINOKI\n",
      "912   9460514   APHROS\n",
      "913   9460734   WADI SAFAGA\n",
      "914   9460772   WADI ALYARMOUK\n",
      "915   9460813   TREMOLA\n",
      "917   9461283   BESIKTAS AZERBAIJAN\n",
      "918   9461465   LOTUS A\n",
      "919   9461867   APL CHONGQING\n",
      "921   9462859   KAPITAN CHEKHA\n",
      "922   9463205   MSC IMMACOLATA\n",
      "923   9463449   EDENBORG\n",
      "926   9464027   BENJAMAS NAREE\n",
      "927   9464039   CHINTANA NAREE\n",
      "929   9464948   VOGE EMMA\n",
      "930   9465162   OCEAN DIAMOND\n",
      "932   9465291   MSC REGULUS\n",
      "\n",
      "933   9465538   EUROCARGO PALERMO\n",
      "934   9465540   EUROCARGO ALEXANDRIA\n",
      "935   9465552   EUROCARGO VENEZIA\n",
      "936   9465992   TORM AGNES\n",
      "937   9466013   TORM AGNETE\n",
      "938   9466350   ATLANTICBORG\n",
      "939   9466726   SLOMAN HERAKLES\n",
      "941   9466908   LMZ TITAN\n",
      "942   9466996   NUNALIK\n",
      "943   9467146   LISA\n",
      "944   9467299   CSCL SATURN\n",
      "945   9467304   CSCL URANUS\n",
      "\n",
      "946   9467586   INDIAN OCEAN\n",
      "947   9467598   ATLANTIC OCEAN\n",
      "948   9467976   AGIA DOXA\n",
      "949   9468528   FUJI LAVA\n",
      "950   9468530   ACACIA RUBRA\n",
      "952   9470131   ADVANTAGE AWARD\n",
      "954   9470399   GOLDEN RUBY\n",
      "955   9470404   GOLDEN OPAL\n",
      "956   9470832   VANTAGE SWORD\n",
      "957   9470882   EF ELDRA\n",
      "958   9471082   EUROCARGO BARI\n",
      "959   9472529   BODIL KNUTSEN\n",
      "960   9472634   ADVANTAGE ANTHEM\n",
      "961   9472751   ORWELL\n",
      "962   9473157   SAMOA\n",
      "963   9473250   CONDOR BILBAO\n",
      "964   9473705   NEPTULUS\n",
      "966   9474670   MAIRINI\n",
      "967   9476068   STAR II\n",
      "\n",
      "968   9476692   MAGDA P\n",
      "969   9476965   ULTRA ROCANVILLE\n",
      "970   9476977   FEDERAL YUKINA\n",
      "971   9477220   NBA RUBENS\n",
      "973   9477505   CHEM TAURUS\n",
      "974   9477804   MARATHOPOLIS\n",
      "975   9477828   MOTTLER\n",
      "976   9477919   MORNING CAMILLA\n",
      "977   9478482   CORINTHIAN SPIRE\n",
      "979   9478690   ALPINE LIBERTY\n",
      "980   9478729   ASPROUDA\n",
      "981   9478913   SSI MAJESTY\n",
      "984   9479979   CHEM STREAM\n",
      "985   9480124   AUGUSTA LUNA\n",
      "986   9480162   NCC DALIA\n",
      "987   9480198   MSC MADRID\n",
      "988   9480540   MBA GIUSEPPE\n",
      "989   9481441   GOLDEN EMPRESS\n",
      "990   9481532   HAMMONIA BALTICA\n",
      "991   9481702   STAR EVA\n",
      "992   9481958   MIKE BAY\n",
      "994   9482550   ELANDRA FJORD\n",
      "995   9482562   ELANDRA BALTIC\n",
      "996   9482603   PHOENIX ADMIRAL\n",
      "997   9482861   TILL JACOB\n",
      "998   9483097   XIANG YUN KOU\n",
      "999   9483229   0514 E.R. BORDEAUX\n",
      "1002   9483516   BIRGIT KNUTSEN\n",
      "1003   9484194   UNISCOUT\n",
      "1004   9484247   UNISEA\n",
      "1005   9484431   MSC RAVENNA\n",
      "\n",
      "1006   9484443   MSC ARIANE\n",
      "\n",
      "1007   9484481   MSC AURORA\n",
      "\n",
      "1008   9484522   LANA\n",
      "1009   9484572   CAP JERVIS\n",
      "1011   9485796   OSLO BULK 5\n",
      "1012   9485849   GT STAR\n"
     ]
    },
    {
     "ename": "KeyboardInterrupt",
     "evalue": "",
     "output_type": "error",
     "traceback": [
      "\u001b[0;31m---------------------------------------------------------------------------\u001b[0m",
      "\u001b[0;31mKeyboardInterrupt\u001b[0m                         Traceback (most recent call last)",
      "Cell \u001b[0;32mIn[69], line 10\u001b[0m\n\u001b[1;32m      8\u001b[0m \u001b[38;5;28;01mif\u001b[39;00m \u001b[38;5;129;01mnot\u001b[39;00m result:\n\u001b[1;32m      9\u001b[0m     ships_not_found\u001b[38;5;241m.\u001b[39mappend(row[\u001b[38;5;124m'\u001b[39m\u001b[38;5;124mimo_number\u001b[39m\u001b[38;5;124m'\u001b[39m])\n\u001b[0;32m---> 10\u001b[0m     \u001b[43mtime\u001b[49m\u001b[38;5;241;43m.\u001b[39;49m\u001b[43msleep\u001b[49m\u001b[43m(\u001b[49m\u001b[38;5;241;43m10\u001b[39;49m\u001b[43m)\u001b[49m\n\u001b[1;32m     11\u001b[0m     \u001b[38;5;28;01mcontinue\u001b[39;00m\n\u001b[1;32m     13\u001b[0m \u001b[38;5;28;01mif\u001b[39;00m similar(row[\u001b[38;5;124m'\u001b[39m\u001b[38;5;124mname\u001b[39m\u001b[38;5;124m'\u001b[39m]\u001b[38;5;241m.\u001b[39mlower(), result[\u001b[38;5;241m0\u001b[39m]\u001b[38;5;241m.\u001b[39mlower()) \u001b[38;5;241m>\u001b[39m \u001b[38;5;241m0.6\u001b[39m:\n",
      "\u001b[0;31mKeyboardInterrupt\u001b[0m: "
     ]
    }
   ],
   "source": [
    "ships_not_found = []\n",
    "ship_info_json = {}\n",
    "ships_with_info = []\n",
    "for index, row in distinc_imo_numbers_subset[['imo_number', 'name']].iterrows():\n",
    "    print(index, ' ', row['imo_number'], ' ',row['name'])\n",
    "    result = wikipedia.search(f\"IMO number: {row['imo_number']}\", results = 1)\n",
    "    \n",
    "    if not result:\n",
    "        ships_not_found.append(row['imo_number'])\n",
    "        time.sleep(10)\n",
    "        continue\n",
    "    \n",
    "    if similar(row['name'].lower(), result[0].lower()) > 0.6:\n",
    "        print(result)\n",
    "        time.sleep(5)\n",
    "        article_html_page = get_wikipedia_page(result[0])\n",
    "        ship_info = get_info_box_from_article(html_page=article_html_page)\n",
    "        ship_info_json[row['imo_number']] = ship_info\n",
    "    print()\n",
    "    time.sleep(10)"
   ]
  },
  {
   "cell_type": "code",
   "execution_count": 51,
   "metadata": {},
   "outputs": [
    {
     "data": {
      "text/plain": [
       "dict_keys([7911545, 9015266, 9056583, 9208629, 9283186, 9283239, 9384992])"
      ]
     },
     "execution_count": 51,
     "metadata": {},
     "output_type": "execute_result"
    }
   ],
   "source": [
    "ship_info_json.keys()"
   ]
  },
  {
   "cell_type": "code",
   "execution_count": 59,
   "metadata": {},
   "outputs": [],
   "source": [
    "ships_not_found.extend(ship_info_json.keys())"
   ]
  },
  {
   "cell_type": "code",
   "execution_count": 60,
   "metadata": {},
   "outputs": [
    {
     "data": {
      "text/plain": [
       "637"
      ]
     },
     "execution_count": 60,
     "metadata": {},
     "output_type": "execute_result"
    }
   ],
   "source": [
    "len(ships_not_found)"
   ]
  },
  {
   "cell_type": "code",
   "execution_count": 64,
   "metadata": {},
   "outputs": [],
   "source": [
    "imo_ships_acquired.extend(ships_not_found)"
   ]
  },
  {
   "cell_type": "code",
   "execution_count": 65,
   "metadata": {},
   "outputs": [],
   "source": [
    "imo_numbers_to_query = set(distinc_imo_numbers['imo_number'].to_list()).difference(set(imo_ships_acquired))"
   ]
  },
  {
   "cell_type": "code",
   "execution_count": 66,
   "metadata": {},
   "outputs": [
    {
     "data": {
      "text/plain": [
       "16137"
      ]
     },
     "execution_count": 66,
     "metadata": {},
     "output_type": "execute_result"
    }
   ],
   "source": [
    "len(imo_numbers_to_query)"
   ]
  },
  {
   "cell_type": "code",
   "execution_count": 54,
   "metadata": {},
   "outputs": [],
   "source": [
    "wikipedia_data = wikipedia_data | ship_info_json"
   ]
  },
  {
   "cell_type": "code",
   "execution_count": 55,
   "metadata": {},
   "outputs": [],
   "source": [
    "import json\n",
    "with open('../data/raw/wikipedia_ship_data.json', 'w', encoding='utf-8') as f:\n",
    "    json.dump(wikipedia_data, f, ensure_ascii=False, indent=4)"
   ]
  }
 ],
 "metadata": {
  "kernelspec": {
   "display_name": "carbonchain_env",
   "language": "python",
   "name": "python3"
  },
  "language_info": {
   "codemirror_mode": {
    "name": "ipython",
    "version": 3
   },
   "file_extension": ".py",
   "mimetype": "text/x-python",
   "name": "python",
   "nbconvert_exporter": "python",
   "pygments_lexer": "ipython3",
   "version": "3.9.16"
  }
 },
 "nbformat": 4,
 "nbformat_minor": 2
}
