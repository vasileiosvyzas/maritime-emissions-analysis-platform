{
 "cells": [
  {
   "cell_type": "code",
   "execution_count": 1,
   "metadata": {},
   "outputs": [],
   "source": [
    "import os\n",
    "import time\n",
    "import pandas as pd\n",
    "from selenium import webdriver\n",
    "from selenium.webdriver.chrome.service import Service\n",
    "import matplotlib.pyplot as plt\n",
    "from selenium.webdriver.common.by import By\n",
    "from selenium.webdriver.support import expected_conditions as EC\n",
    "from selenium.webdriver.support.wait import WebDriverWait\n",
    "import multiprocessing as mp\n",
    "from webdriver_manager.chrome import ChromeDriverManager\n",
    "from dotenv import load_dotenv\n",
    "import traceback\n",
    "import sys"
   ]
  },
  {
   "cell_type": "markdown",
   "metadata": {},
   "source": [
    "# Get the data from the reports table"
   ]
  },
  {
   "cell_type": "code",
   "execution_count": 50,
   "metadata": {},
   "outputs": [
    {
     "name": "stdout",
     "output_type": "stream",
     "text": [
      "\n",
      "\n",
      "\n",
      "\n",
      "\n"
     ]
    }
   ],
   "source": [
    "# Install Webdriver\n",
    "service = Service()\n",
    "\n",
    "options = webdriver.ChromeOptions()\n",
    "driver = webdriver.Chrome(service=service, options=options)\n",
    "\n",
    "driver.get(\"https://mrv.emsa.europa.eu/#public/emission-report\")\n",
    "time.sleep(60)\n",
    "\n",
    "# html=driver.page_source\n",
    "WebDriverWait(driver, 10).until(EC.presence_of_element_located((By.XPATH, '//*[@id=\"exportablegrid-1137-body\"]')))\n",
    "\n",
    "\n",
    "# Find and scrape the tables\n",
    "tables = driver.find_element(By.XPATH, '//*[@id=\"exportablegrid-1137-body\"]')\n",
    "elements = tables.find_elements(By.TAG_NAME, 'table')\n",
    "\n",
    "keys = ['Reporting Period', 'Version', 'Generation Date', 'File']\n",
    "reports = []\n",
    "for i, table in enumerate(elements):\n",
    "    result_dict = {keys[i]: value for i, value in enumerate(table.text.split('\\n')[1:])}\n",
    "    reports.append(result_dict)\n",
    "    \n",
    "    print()\n",
    "    \n",
    "driver.quit()"
   ]
  },
  {
   "cell_type": "markdown",
   "metadata": {},
   "source": [
    "# Compare versions of new reports and old reports"
   ]
  },
  {
   "cell_type": "code",
   "execution_count": 73,
   "metadata": {},
   "outputs": [],
   "source": [
    "reports_df_old = pd.read_csv('../data/raw/reports_metadata.csv')"
   ]
  },
  {
   "cell_type": "code",
   "execution_count": 82,
   "metadata": {},
   "outputs": [
    {
     "data": {
      "text/plain": [
       "Reporting Period             int64\n",
       "Version                      int64\n",
       "Generation Date     datetime64[ns]\n",
       "File                        object\n",
       "dtype: object"
      ]
     },
     "execution_count": 82,
     "metadata": {},
     "output_type": "execute_result"
    }
   ],
   "source": [
    "reports_df_old.dtypes"
   ]
  },
  {
   "cell_type": "code",
   "execution_count": 78,
   "metadata": {},
   "outputs": [],
   "source": [
    "reports_df_old['Generation Date'] = pd.to_datetime(reports_df_old['Generation Date'], dayfirst=True)"
   ]
  },
  {
   "cell_type": "code",
   "execution_count": 52,
   "metadata": {},
   "outputs": [],
   "source": [
    "reports_new = reports"
   ]
  },
  {
   "cell_type": "code",
   "execution_count": 53,
   "metadata": {},
   "outputs": [],
   "source": [
    "reports_old = [{'Reporting Period': '2022',\n",
    "  'Version': '105',\n",
    "  'Generation Date': '11/11/2023',\n",
    "  'File': '2022-v105-09112023-EU MRV Publication of information'},\n",
    " {'Reporting Period': '2021',\n",
    "  'Version': '176',\n",
    "  'Generation Date': '13/10/2023',\n",
    "  'File': '2021-v176-13102023-EU MRV Publication of information'},\n",
    " {'Reporting Period': '2020',\n",
    "  'Version': '194',\n",
    "  'Generation Date': '11/10/2023',\n",
    "  'File': '2020-v194-11102023-EU MRV Publication of information'},\n",
    " {'Reporting Period': '2019',\n",
    "  'Version': '217',\n",
    "  'Generation Date': '11/10/2023',\n",
    "  'File': '2019-v217-11102023-EU MRV Publication of information'},\n",
    " {'Reporting Period': '2018',\n",
    "  'Version': '270',\n",
    "  'Generation Date': '11/10/2023',\n",
    "  'File': '2018-v270-11102023-EU MRV Publication of information'}]\n"
   ]
  },
  {
   "cell_type": "code",
   "execution_count": 54,
   "metadata": {},
   "outputs": [
    {
     "data": {
      "text/plain": [
       "[{'Reporting Period': '2022',\n",
       "  'Version': '108',\n",
       "  'Generation Date': '16/11/2023',\n",
       "  'File': '2022-v108-16112023-EU MRV Publication of information '},\n",
       " {'Reporting Period': '2021',\n",
       "  'Version': '178',\n",
       "  'Generation Date': '16/11/2023',\n",
       "  'File': '2021-v178-16112023-EU MRV Publication of information '},\n",
       " {'Reporting Period': '2020',\n",
       "  'Version': '194',\n",
       "  'Generation Date': '11/10/2023',\n",
       "  'File': '2020-v194-11102023-EU MRV Publication of information '},\n",
       " {'Reporting Period': '2019',\n",
       "  'Version': '217',\n",
       "  'Generation Date': '11/10/2023',\n",
       "  'File': '2019-v217-11102023-EU MRV Publication of information '},\n",
       " {'Reporting Period': '2018',\n",
       "  'Version': '270',\n",
       "  'Generation Date': '11/10/2023',\n",
       "  'File': '2018-v270-11102023-EU MRV Publication of information '}]"
      ]
     },
     "execution_count": 54,
     "metadata": {},
     "output_type": "execute_result"
    }
   ],
   "source": [
    "reports_new"
   ]
  },
  {
   "cell_type": "code",
   "execution_count": 55,
   "metadata": {},
   "outputs": [],
   "source": [
    "df_old = pd.DataFrame(reports_old)\n",
    "df_new = pd.DataFrame(reports_new)"
   ]
  },
  {
   "cell_type": "markdown",
   "metadata": {},
   "source": [
    "## Merge current and new dataframes on the 'Reporting Period' column\n"
   ]
  },
  {
   "cell_type": "code",
   "execution_count": 56,
   "metadata": {},
   "outputs": [],
   "source": [
    "merged_df = pd.merge(df_old, df_new, on='Reporting Period', how='outer', suffixes=('_current', '_new'))"
   ]
  },
  {
   "cell_type": "code",
   "execution_count": 57,
   "metadata": {},
   "outputs": [
    {
     "data": {
      "text/html": [
       "<div>\n",
       "<style scoped>\n",
       "    .dataframe tbody tr th:only-of-type {\n",
       "        vertical-align: middle;\n",
       "    }\n",
       "\n",
       "    .dataframe tbody tr th {\n",
       "        vertical-align: top;\n",
       "    }\n",
       "\n",
       "    .dataframe thead th {\n",
       "        text-align: right;\n",
       "    }\n",
       "</style>\n",
       "<table border=\"1\" class=\"dataframe\">\n",
       "  <thead>\n",
       "    <tr style=\"text-align: right;\">\n",
       "      <th></th>\n",
       "      <th>Reporting Period</th>\n",
       "      <th>Version_current</th>\n",
       "      <th>Generation Date_current</th>\n",
       "      <th>File_current</th>\n",
       "      <th>Version_new</th>\n",
       "      <th>Generation Date_new</th>\n",
       "      <th>File_new</th>\n",
       "    </tr>\n",
       "  </thead>\n",
       "  <tbody>\n",
       "    <tr>\n",
       "      <th>0</th>\n",
       "      <td>2022</td>\n",
       "      <td>105</td>\n",
       "      <td>11/11/2023</td>\n",
       "      <td>2022-v105-09112023-EU MRV Publication of infor...</td>\n",
       "      <td>108</td>\n",
       "      <td>16/11/2023</td>\n",
       "      <td>2022-v108-16112023-EU MRV Publication of infor...</td>\n",
       "    </tr>\n",
       "    <tr>\n",
       "      <th>1</th>\n",
       "      <td>2021</td>\n",
       "      <td>176</td>\n",
       "      <td>13/10/2023</td>\n",
       "      <td>2021-v176-13102023-EU MRV Publication of infor...</td>\n",
       "      <td>178</td>\n",
       "      <td>16/11/2023</td>\n",
       "      <td>2021-v178-16112023-EU MRV Publication of infor...</td>\n",
       "    </tr>\n",
       "    <tr>\n",
       "      <th>2</th>\n",
       "      <td>2020</td>\n",
       "      <td>194</td>\n",
       "      <td>11/10/2023</td>\n",
       "      <td>2020-v194-11102023-EU MRV Publication of infor...</td>\n",
       "      <td>194</td>\n",
       "      <td>11/10/2023</td>\n",
       "      <td>2020-v194-11102023-EU MRV Publication of infor...</td>\n",
       "    </tr>\n",
       "    <tr>\n",
       "      <th>3</th>\n",
       "      <td>2019</td>\n",
       "      <td>217</td>\n",
       "      <td>11/10/2023</td>\n",
       "      <td>2019-v217-11102023-EU MRV Publication of infor...</td>\n",
       "      <td>217</td>\n",
       "      <td>11/10/2023</td>\n",
       "      <td>2019-v217-11102023-EU MRV Publication of infor...</td>\n",
       "    </tr>\n",
       "    <tr>\n",
       "      <th>4</th>\n",
       "      <td>2018</td>\n",
       "      <td>270</td>\n",
       "      <td>11/10/2023</td>\n",
       "      <td>2018-v270-11102023-EU MRV Publication of infor...</td>\n",
       "      <td>270</td>\n",
       "      <td>11/10/2023</td>\n",
       "      <td>2018-v270-11102023-EU MRV Publication of infor...</td>\n",
       "    </tr>\n",
       "  </tbody>\n",
       "</table>\n",
       "</div>"
      ],
      "text/plain": [
       "  Reporting Period Version_current Generation Date_current  \\\n",
       "0             2022             105              11/11/2023   \n",
       "1             2021             176              13/10/2023   \n",
       "2             2020             194              11/10/2023   \n",
       "3             2019             217              11/10/2023   \n",
       "4             2018             270              11/10/2023   \n",
       "\n",
       "                                        File_current Version_new  \\\n",
       "0  2022-v105-09112023-EU MRV Publication of infor...         108   \n",
       "1  2021-v176-13102023-EU MRV Publication of infor...         178   \n",
       "2  2020-v194-11102023-EU MRV Publication of infor...         194   \n",
       "3  2019-v217-11102023-EU MRV Publication of infor...         217   \n",
       "4  2018-v270-11102023-EU MRV Publication of infor...         270   \n",
       "\n",
       "  Generation Date_new                                           File_new  \n",
       "0          16/11/2023  2022-v108-16112023-EU MRV Publication of infor...  \n",
       "1          16/11/2023  2021-v178-16112023-EU MRV Publication of infor...  \n",
       "2          11/10/2023  2020-v194-11102023-EU MRV Publication of infor...  \n",
       "3          11/10/2023  2019-v217-11102023-EU MRV Publication of infor...  \n",
       "4          11/10/2023  2018-v270-11102023-EU MRV Publication of infor...  "
      ]
     },
     "execution_count": 57,
     "metadata": {},
     "output_type": "execute_result"
    }
   ],
   "source": [
    "merged_df"
   ]
  },
  {
   "cell_type": "markdown",
   "metadata": {},
   "source": [
    "## Identify rows where the new version is greater than the current version"
   ]
  },
  {
   "cell_type": "code",
   "execution_count": 58,
   "metadata": {},
   "outputs": [],
   "source": [
    "new_versions = merged_df[merged_df['Version_new'] > merged_df['Version_current']]\n"
   ]
  },
  {
   "cell_type": "code",
   "execution_count": 59,
   "metadata": {},
   "outputs": [
    {
     "data": {
      "text/html": [
       "<div>\n",
       "<style scoped>\n",
       "    .dataframe tbody tr th:only-of-type {\n",
       "        vertical-align: middle;\n",
       "    }\n",
       "\n",
       "    .dataframe tbody tr th {\n",
       "        vertical-align: top;\n",
       "    }\n",
       "\n",
       "    .dataframe thead th {\n",
       "        text-align: right;\n",
       "    }\n",
       "</style>\n",
       "<table border=\"1\" class=\"dataframe\">\n",
       "  <thead>\n",
       "    <tr style=\"text-align: right;\">\n",
       "      <th></th>\n",
       "      <th>Reporting Period</th>\n",
       "      <th>Version_current</th>\n",
       "      <th>Generation Date_current</th>\n",
       "      <th>File_current</th>\n",
       "      <th>Version_new</th>\n",
       "      <th>Generation Date_new</th>\n",
       "      <th>File_new</th>\n",
       "    </tr>\n",
       "  </thead>\n",
       "  <tbody>\n",
       "    <tr>\n",
       "      <th>0</th>\n",
       "      <td>2022</td>\n",
       "      <td>105</td>\n",
       "      <td>11/11/2023</td>\n",
       "      <td>2022-v105-09112023-EU MRV Publication of infor...</td>\n",
       "      <td>108</td>\n",
       "      <td>16/11/2023</td>\n",
       "      <td>2022-v108-16112023-EU MRV Publication of infor...</td>\n",
       "    </tr>\n",
       "    <tr>\n",
       "      <th>1</th>\n",
       "      <td>2021</td>\n",
       "      <td>176</td>\n",
       "      <td>13/10/2023</td>\n",
       "      <td>2021-v176-13102023-EU MRV Publication of infor...</td>\n",
       "      <td>178</td>\n",
       "      <td>16/11/2023</td>\n",
       "      <td>2021-v178-16112023-EU MRV Publication of infor...</td>\n",
       "    </tr>\n",
       "  </tbody>\n",
       "</table>\n",
       "</div>"
      ],
      "text/plain": [
       "  Reporting Period Version_current Generation Date_current  \\\n",
       "0             2022             105              11/11/2023   \n",
       "1             2021             176              13/10/2023   \n",
       "\n",
       "                                        File_current Version_new  \\\n",
       "0  2022-v105-09112023-EU MRV Publication of infor...         108   \n",
       "1  2021-v176-13102023-EU MRV Publication of infor...         178   \n",
       "\n",
       "  Generation Date_new                                           File_new  \n",
       "0          16/11/2023  2022-v108-16112023-EU MRV Publication of infor...  \n",
       "1          16/11/2023  2021-v178-16112023-EU MRV Publication of infor...  "
      ]
     },
     "execution_count": 59,
     "metadata": {},
     "output_type": "execute_result"
    }
   ],
   "source": [
    "new_versions"
   ]
  },
  {
   "cell_type": "code",
   "execution_count": 60,
   "metadata": {},
   "outputs": [
    {
     "data": {
      "text/html": [
       "<div>\n",
       "<style scoped>\n",
       "    .dataframe tbody tr th:only-of-type {\n",
       "        vertical-align: middle;\n",
       "    }\n",
       "\n",
       "    .dataframe tbody tr th {\n",
       "        vertical-align: top;\n",
       "    }\n",
       "\n",
       "    .dataframe thead th {\n",
       "        text-align: right;\n",
       "    }\n",
       "</style>\n",
       "<table border=\"1\" class=\"dataframe\">\n",
       "  <thead>\n",
       "    <tr style=\"text-align: right;\">\n",
       "      <th></th>\n",
       "      <th>Reporting Period</th>\n",
       "      <th>Version</th>\n",
       "      <th>Generation Date</th>\n",
       "      <th>File</th>\n",
       "    </tr>\n",
       "  </thead>\n",
       "  <tbody>\n",
       "    <tr>\n",
       "      <th>0</th>\n",
       "      <td>2022</td>\n",
       "      <td>105</td>\n",
       "      <td>11/11/2023</td>\n",
       "      <td>2022-v105-09112023-EU MRV Publication of infor...</td>\n",
       "    </tr>\n",
       "    <tr>\n",
       "      <th>1</th>\n",
       "      <td>2021</td>\n",
       "      <td>176</td>\n",
       "      <td>13/10/2023</td>\n",
       "      <td>2021-v176-13102023-EU MRV Publication of infor...</td>\n",
       "    </tr>\n",
       "    <tr>\n",
       "      <th>2</th>\n",
       "      <td>2020</td>\n",
       "      <td>194</td>\n",
       "      <td>11/10/2023</td>\n",
       "      <td>2020-v194-11102023-EU MRV Publication of infor...</td>\n",
       "    </tr>\n",
       "    <tr>\n",
       "      <th>3</th>\n",
       "      <td>2019</td>\n",
       "      <td>217</td>\n",
       "      <td>11/10/2023</td>\n",
       "      <td>2019-v217-11102023-EU MRV Publication of infor...</td>\n",
       "    </tr>\n",
       "    <tr>\n",
       "      <th>4</th>\n",
       "      <td>2018</td>\n",
       "      <td>270</td>\n",
       "      <td>11/10/2023</td>\n",
       "      <td>2018-v270-11102023-EU MRV Publication of infor...</td>\n",
       "    </tr>\n",
       "  </tbody>\n",
       "</table>\n",
       "</div>"
      ],
      "text/plain": [
       "  Reporting Period Version Generation Date  \\\n",
       "0             2022     105      11/11/2023   \n",
       "1             2021     176      13/10/2023   \n",
       "2             2020     194      11/10/2023   \n",
       "3             2019     217      11/10/2023   \n",
       "4             2018     270      11/10/2023   \n",
       "\n",
       "                                                File  \n",
       "0  2022-v105-09112023-EU MRV Publication of infor...  \n",
       "1  2021-v176-13102023-EU MRV Publication of infor...  \n",
       "2  2020-v194-11102023-EU MRV Publication of infor...  \n",
       "3  2019-v217-11102023-EU MRV Publication of infor...  \n",
       "4  2018-v270-11102023-EU MRV Publication of infor...  "
      ]
     },
     "execution_count": 60,
     "metadata": {},
     "output_type": "execute_result"
    }
   ],
   "source": [
    "df_old"
   ]
  },
  {
   "cell_type": "markdown",
   "metadata": {},
   "source": [
    "## Update current data for rows with new versions"
   ]
  },
  {
   "cell_type": "code",
   "execution_count": 70,
   "metadata": {},
   "outputs": [
    {
     "name": "stdout",
     "output_type": "stream",
     "text": [
      "<class 'str'>\n",
      "<class 'str'>\n"
     ]
    }
   ],
   "source": [
    "for index, row in new_versions.iterrows():\n",
    "    df_old.loc[df_old['Reporting Period'] == row['Reporting Period'], 'Version'] = row['Version_new']\n",
    "    df_old.loc[df_old['Reporting Period'] == row['Reporting Period'], 'Generation Date'] = row['Generation Date_new']\n",
    "    df_old.loc[df_old['Reporting Period'] == row['Reporting Period'], 'File'] = row['File_new']\n",
    "    print(type(row['File_new']))\n",
    "     "
   ]
  },
  {
   "cell_type": "code",
   "execution_count": null,
   "metadata": {},
   "outputs": [],
   "source": []
  },
  {
   "cell_type": "code",
   "execution_count": 2,
   "metadata": {},
   "outputs": [],
   "source": [
    "import re"
   ]
  },
  {
   "cell_type": "code",
   "execution_count": 3,
   "metadata": {},
   "outputs": [],
   "source": [
    "def extract_table_elements(data):\n",
    "    # Define regular expressions to extract data\n",
    "    reporting_period_pattern = re.compile(r\"Reporting Period(\\d+)\")\n",
    "    version_pattern = re.compile(r\"Version(\\d+)\")\n",
    "    generation_date_pattern = re.compile(r\"Generation Date([\\d/]+)\")\n",
    "    file_pattern = re.compile(r\"File(.+)$\")\n",
    "\n",
    "    # Initialize variables to store extracted values\n",
    "    reporting_period = None\n",
    "    version = None\n",
    "    generation_date = None\n",
    "    file_data = None\n",
    "\n",
    "    # Extract data using regular expressions\n",
    "    match_reporting_period = reporting_period_pattern.search(data)\n",
    "    if match_reporting_period:\n",
    "        reporting_period = int(match_reporting_period.group(1))\n",
    "\n",
    "    match_version = version_pattern.search(data)\n",
    "    if match_version:\n",
    "        version = int(match_version.group(1))\n",
    "\n",
    "    match_generation_date = generation_date_pattern.search(data)\n",
    "    if match_generation_date:\n",
    "        generation_date = match_generation_date.group(1)\n",
    "\n",
    "    match_file = file_pattern.search(data)\n",
    "    if match_file:\n",
    "        file_data = match_file.group(1).strip()\n",
    "\n",
    "    # Create a dictionary with the extracted data\n",
    "    data_dict = {\n",
    "        \"Reporting Period\": reporting_period,\n",
    "        \"Version\": version,\n",
    "        \"Generation Date\": generation_date,\n",
    "        \"File\": file_data,\n",
    "    }\n",
    "\n",
    "    # Print the dictionary\n",
    "    print(data_dict)\n",
    "    return data_dict"
   ]
  },
  {
   "cell_type": "code",
   "execution_count": 38,
   "metadata": {},
   "outputs": [
    {
     "name": "stdout",
     "output_type": "stream",
     "text": [
      "Visiting the Thetis MRV website\n",
      "[['Actions', 'Reporting Period2022', 'Version202', 'Generation Date17/05/2024', 'File2022-v202-17052024-EU MRV Publication of information '], ['Actions', 'Reporting Period2021', 'Version203', 'Generation Date29/04/2024', 'File2021-v203-29042024-EU MRV Publication of information '], ['Actions', 'Reporting Period2020', 'Version196', 'Generation Date14/05/2024', 'File2020-v196-14052024-EU MRV Publication of information '], ['Actions', 'Reporting Period2019', 'Version219', 'Generation Date14/05/2024', 'File2019-v219-14052024-EU MRV Publication of information '], ['Actions', 'Reporting Period2018', 'Version271', 'Generation Date14/05/2024', 'File2018-v271-14052024-EU MRV Publication of information ']]\n",
      "[{'Reporting Period': '2022', 'Version': '202', 'Generation Date': '17/05/2024', 'File': '2022-v202-17052024-EU MRV Publication of information '}, {'Reporting Period': '2021', 'Version': '203', 'Generation Date': '29/04/2024', 'File': '2021-v203-29042024-EU MRV Publication of information '}, {'Reporting Period': '2020', 'Version': '196', 'Generation Date': '14/05/2024', 'File': '2020-v196-14052024-EU MRV Publication of information '}, {'Reporting Period': '2019', 'Version': '219', 'Generation Date': '14/05/2024', 'File': '2019-v219-14052024-EU MRV Publication of information '}, {'Reporting Period': '2018', 'Version': '271', 'Generation Date': '14/05/2024', 'File': '2018-v271-14052024-EU MRV Publication of information '}]\n"
     ]
    }
   ],
   "source": [
    "options = webdriver.ChromeOptions()\n",
    "options.add_argument(\"--headless\")\n",
    "options.add_argument(\"--no-sandbox\")\n",
    "options.add_argument(\"--disable-dev-shm-usage\")\n",
    "options.add_argument(\"--disable-gpu\")\n",
    "options.add_experimental_option(\"prefs\", {\"download.default_directory\": \"/tmp\"})\n",
    "driver = webdriver.Remote(\"http://localhost:4444\", options=options)\n",
    "\n",
    "try:\n",
    "    print(\"Visiting the Thetis MRV website\")\n",
    "\n",
    "    driver.get(\"https://mrv.emsa.europa.eu/#public/emission-report\")\n",
    "    time.sleep(30)\n",
    "\n",
    "    table_element = WebDriverWait(driver, 10).until(\n",
    "        EC.presence_of_element_located((By.XPATH, '//*[@id=\"gridview-1152\"]/div[2]'))\n",
    "    )\n",
    "    table_rows = table_element.find_elements(By.TAG_NAME, \"tr\")\n",
    "    table_data = []\n",
    "    for row in table_rows:\n",
    "        row_data = []\n",
    "        cells = row.find_elements(By.TAG_NAME, \"td\")\n",
    "        for cell in cells:\n",
    "            row_data.append(cell.text)\n",
    "        table_data.append(row_data)\n",
    "        \n",
    "    print(table_data)\n",
    "    result = []\n",
    "\n",
    "    for row in table_data:\n",
    "        data = {}\n",
    "        data[\"Reporting Period\"] = row[1].split(\"Reporting Period\")[1]\n",
    "        data[\"Version\"] = row[2].split(\"Version\")[1]\n",
    "        data[\"Generation Date\"] = row[3].split(\"Generation Date\")[1]\n",
    "        data[\"File\"] = row[4].split(\"File\")[1]\n",
    "        result.append(data)\n",
    "\n",
    "    print(result)\n",
    "    df_new = pd.DataFrame(result)\n",
    "\n",
    "except Exception as e:\n",
    "    print(f\"An error occurred while getting the data: {e}\")\n",
    "    print(traceback.format_exc())\n",
    "finally:\n",
    "    driver.quit()"
   ]
  },
  {
   "cell_type": "code",
   "execution_count": 22,
   "metadata": {},
   "outputs": [
    {
     "data": {
      "text/plain": [
       "Reporting Period    object\n",
       "Version             object\n",
       "Generation Date     object\n",
       "File                object\n",
       "dtype: object"
      ]
     },
     "execution_count": 22,
     "metadata": {},
     "output_type": "execute_result"
    }
   ],
   "source": [
    "df_new.dtypes"
   ]
  },
  {
   "cell_type": "code",
   "execution_count": 39,
   "metadata": {},
   "outputs": [],
   "source": [
    "def fix_column_types(df):\n",
    "    df[\"Reporting Period\"] = df[[\"Reporting Period\"]].astype(int)\n",
    "    df[\"Version\"] = df[[\"Version\"]].astype(int)\n",
    "    df[\"Generation Date\"] = pd.to_datetime(df[\"Generation Date\"], dayfirst=True)\n",
    "\n",
    "    return df"
   ]
  },
  {
   "cell_type": "code",
   "execution_count": 40,
   "metadata": {},
   "outputs": [],
   "source": [
    "df_new1 = fix_column_types(df_new)"
   ]
  },
  {
   "cell_type": "code",
   "execution_count": 41,
   "metadata": {},
   "outputs": [
    {
     "data": {
      "text/plain": [
       "Reporting Period             int64\n",
       "Version                      int64\n",
       "Generation Date     datetime64[ns]\n",
       "File                        object\n",
       "dtype: object"
      ]
     },
     "execution_count": 41,
     "metadata": {},
     "output_type": "execute_result"
    }
   ],
   "source": [
    "df_new1.dtypes"
   ]
  },
  {
   "cell_type": "code",
   "execution_count": 42,
   "metadata": {},
   "outputs": [
    {
     "data": {
      "text/html": [
       "<div>\n",
       "<style scoped>\n",
       "    .dataframe tbody tr th:only-of-type {\n",
       "        vertical-align: middle;\n",
       "    }\n",
       "\n",
       "    .dataframe tbody tr th {\n",
       "        vertical-align: top;\n",
       "    }\n",
       "\n",
       "    .dataframe thead th {\n",
       "        text-align: right;\n",
       "    }\n",
       "</style>\n",
       "<table border=\"1\" class=\"dataframe\">\n",
       "  <thead>\n",
       "    <tr style=\"text-align: right;\">\n",
       "      <th></th>\n",
       "      <th>Reporting Period</th>\n",
       "      <th>Version</th>\n",
       "      <th>Generation Date</th>\n",
       "      <th>File</th>\n",
       "    </tr>\n",
       "  </thead>\n",
       "  <tbody>\n",
       "    <tr>\n",
       "      <th>0</th>\n",
       "      <td>2022</td>\n",
       "      <td>202</td>\n",
       "      <td>2024-05-17</td>\n",
       "      <td>2022-v202-17052024-EU MRV Publication of infor...</td>\n",
       "    </tr>\n",
       "    <tr>\n",
       "      <th>1</th>\n",
       "      <td>2021</td>\n",
       "      <td>203</td>\n",
       "      <td>2024-04-29</td>\n",
       "      <td>2021-v203-29042024-EU MRV Publication of infor...</td>\n",
       "    </tr>\n",
       "    <tr>\n",
       "      <th>2</th>\n",
       "      <td>2020</td>\n",
       "      <td>196</td>\n",
       "      <td>2024-05-14</td>\n",
       "      <td>2020-v196-14052024-EU MRV Publication of infor...</td>\n",
       "    </tr>\n",
       "    <tr>\n",
       "      <th>3</th>\n",
       "      <td>2019</td>\n",
       "      <td>219</td>\n",
       "      <td>2024-05-14</td>\n",
       "      <td>2019-v219-14052024-EU MRV Publication of infor...</td>\n",
       "    </tr>\n",
       "    <tr>\n",
       "      <th>4</th>\n",
       "      <td>2018</td>\n",
       "      <td>271</td>\n",
       "      <td>2024-05-14</td>\n",
       "      <td>2018-v271-14052024-EU MRV Publication of infor...</td>\n",
       "    </tr>\n",
       "  </tbody>\n",
       "</table>\n",
       "</div>"
      ],
      "text/plain": [
       "   Reporting Period  Version Generation Date  \\\n",
       "0              2022      202      2024-05-17   \n",
       "1              2021      203      2024-04-29   \n",
       "2              2020      196      2024-05-14   \n",
       "3              2019      219      2024-05-14   \n",
       "4              2018      271      2024-05-14   \n",
       "\n",
       "                                                File  \n",
       "0  2022-v202-17052024-EU MRV Publication of infor...  \n",
       "1  2021-v203-29042024-EU MRV Publication of infor...  \n",
       "2  2020-v196-14052024-EU MRV Publication of infor...  \n",
       "3  2019-v219-14052024-EU MRV Publication of infor...  \n",
       "4  2018-v271-14052024-EU MRV Publication of infor...  "
      ]
     },
     "execution_count": 42,
     "metadata": {},
     "output_type": "execute_result"
    }
   ],
   "source": [
    "df_new"
   ]
  },
  {
   "cell_type": "code",
   "execution_count": 43,
   "metadata": {},
   "outputs": [
    {
     "data": {
      "text/html": [
       "<div>\n",
       "<style scoped>\n",
       "    .dataframe tbody tr th:only-of-type {\n",
       "        vertical-align: middle;\n",
       "    }\n",
       "\n",
       "    .dataframe tbody tr th {\n",
       "        vertical-align: top;\n",
       "    }\n",
       "\n",
       "    .dataframe thead th {\n",
       "        text-align: right;\n",
       "    }\n",
       "</style>\n",
       "<table border=\"1\" class=\"dataframe\">\n",
       "  <thead>\n",
       "    <tr style=\"text-align: right;\">\n",
       "      <th></th>\n",
       "      <th>Reporting Period</th>\n",
       "      <th>Version</th>\n",
       "      <th>Generation Date</th>\n",
       "      <th>File</th>\n",
       "    </tr>\n",
       "  </thead>\n",
       "  <tbody>\n",
       "    <tr>\n",
       "      <th>0</th>\n",
       "      <td>2022</td>\n",
       "      <td>202</td>\n",
       "      <td>2024-05-17</td>\n",
       "      <td>2022-v202-17052024-EU MRV Publication of infor...</td>\n",
       "    </tr>\n",
       "    <tr>\n",
       "      <th>1</th>\n",
       "      <td>2021</td>\n",
       "      <td>203</td>\n",
       "      <td>2024-04-29</td>\n",
       "      <td>2021-v203-29042024-EU MRV Publication of infor...</td>\n",
       "    </tr>\n",
       "    <tr>\n",
       "      <th>2</th>\n",
       "      <td>2020</td>\n",
       "      <td>196</td>\n",
       "      <td>2024-05-14</td>\n",
       "      <td>2020-v196-14052024-EU MRV Publication of infor...</td>\n",
       "    </tr>\n",
       "    <tr>\n",
       "      <th>3</th>\n",
       "      <td>2019</td>\n",
       "      <td>219</td>\n",
       "      <td>2024-05-14</td>\n",
       "      <td>2019-v219-14052024-EU MRV Publication of infor...</td>\n",
       "    </tr>\n",
       "    <tr>\n",
       "      <th>4</th>\n",
       "      <td>2018</td>\n",
       "      <td>271</td>\n",
       "      <td>2024-05-14</td>\n",
       "      <td>2018-v271-14052024-EU MRV Publication of infor...</td>\n",
       "    </tr>\n",
       "  </tbody>\n",
       "</table>\n",
       "</div>"
      ],
      "text/plain": [
       "   Reporting Period  Version Generation Date  \\\n",
       "0              2022      202      2024-05-17   \n",
       "1              2021      203      2024-04-29   \n",
       "2              2020      196      2024-05-14   \n",
       "3              2019      219      2024-05-14   \n",
       "4              2018      271      2024-05-14   \n",
       "\n",
       "                                                File  \n",
       "0  2022-v202-17052024-EU MRV Publication of infor...  \n",
       "1  2021-v203-29042024-EU MRV Publication of infor...  \n",
       "2  2020-v196-14052024-EU MRV Publication of infor...  \n",
       "3  2019-v219-14052024-EU MRV Publication of infor...  \n",
       "4  2018-v271-14052024-EU MRV Publication of infor...  "
      ]
     },
     "execution_count": 43,
     "metadata": {},
     "output_type": "execute_result"
    }
   ],
   "source": [
    "df_new1"
   ]
  },
  {
   "cell_type": "code",
   "execution_count": 29,
   "metadata": {},
   "outputs": [],
   "source": [
    "import os"
   ]
  },
  {
   "cell_type": "code",
   "execution_count": 30,
   "metadata": {},
   "outputs": [
    {
     "data": {
      "text/plain": [
       "'/Users/vasileiosvyzas/workspace/side-projects/ship-emissions-tracker/notebooks'"
      ]
     },
     "execution_count": 30,
     "metadata": {},
     "output_type": "execute_result"
    }
   ],
   "source": [
    "os.getcwd()"
   ]
  },
  {
   "cell_type": "code",
   "execution_count": 44,
   "metadata": {},
   "outputs": [],
   "source": [
    "reports_df_old = pd.read_csv(\"../data/raw/reports_metadata.csv\", )"
   ]
  },
  {
   "cell_type": "code",
   "execution_count": 45,
   "metadata": {},
   "outputs": [
    {
     "data": {
      "text/plain": [
       "Reporting Period     int64\n",
       "Version              int64\n",
       "Generation Date     object\n",
       "File                object\n",
       "dtype: object"
      ]
     },
     "execution_count": 45,
     "metadata": {},
     "output_type": "execute_result"
    }
   ],
   "source": [
    "reports_df_old.dtypes"
   ]
  },
  {
   "cell_type": "code",
   "execution_count": 46,
   "metadata": {},
   "outputs": [
    {
     "data": {
      "text/html": [
       "<div>\n",
       "<style scoped>\n",
       "    .dataframe tbody tr th:only-of-type {\n",
       "        vertical-align: middle;\n",
       "    }\n",
       "\n",
       "    .dataframe tbody tr th {\n",
       "        vertical-align: top;\n",
       "    }\n",
       "\n",
       "    .dataframe thead th {\n",
       "        text-align: right;\n",
       "    }\n",
       "</style>\n",
       "<table border=\"1\" class=\"dataframe\">\n",
       "  <thead>\n",
       "    <tr style=\"text-align: right;\">\n",
       "      <th></th>\n",
       "      <th>Reporting Period</th>\n",
       "      <th>Version</th>\n",
       "      <th>Generation Date</th>\n",
       "      <th>File</th>\n",
       "    </tr>\n",
       "  </thead>\n",
       "  <tbody>\n",
       "    <tr>\n",
       "      <th>0</th>\n",
       "      <td>2022</td>\n",
       "      <td>202</td>\n",
       "      <td>2024-05-17</td>\n",
       "      <td>2022-v202-17052024-EU MRV Publication of infor...</td>\n",
       "    </tr>\n",
       "    <tr>\n",
       "      <th>1</th>\n",
       "      <td>2021</td>\n",
       "      <td>203</td>\n",
       "      <td>2024-04-29</td>\n",
       "      <td>2021-v203-29042024-EU MRV Publication of infor...</td>\n",
       "    </tr>\n",
       "    <tr>\n",
       "      <th>2</th>\n",
       "      <td>2020</td>\n",
       "      <td>196</td>\n",
       "      <td>2024-05-14</td>\n",
       "      <td>2020-v196-14052024-EU MRV Publication of infor...</td>\n",
       "    </tr>\n",
       "    <tr>\n",
       "      <th>3</th>\n",
       "      <td>2019</td>\n",
       "      <td>219</td>\n",
       "      <td>2024-05-14</td>\n",
       "      <td>2019-v219-14052024-EU MRV Publication of infor...</td>\n",
       "    </tr>\n",
       "    <tr>\n",
       "      <th>4</th>\n",
       "      <td>2018</td>\n",
       "      <td>271</td>\n",
       "      <td>2024-05-14</td>\n",
       "      <td>2018-v271-14052024-EU MRV Publication of infor...</td>\n",
       "    </tr>\n",
       "  </tbody>\n",
       "</table>\n",
       "</div>"
      ],
      "text/plain": [
       "   Reporting Period  Version Generation Date  \\\n",
       "0              2022      202      2024-05-17   \n",
       "1              2021      203      2024-04-29   \n",
       "2              2020      196      2024-05-14   \n",
       "3              2019      219      2024-05-14   \n",
       "4              2018      271      2024-05-14   \n",
       "\n",
       "                                                File  \n",
       "0  2022-v202-17052024-EU MRV Publication of infor...  \n",
       "1  2021-v203-29042024-EU MRV Publication of infor...  \n",
       "2  2020-v196-14052024-EU MRV Publication of infor...  \n",
       "3  2019-v219-14052024-EU MRV Publication of infor...  \n",
       "4  2018-v271-14052024-EU MRV Publication of infor...  "
      ]
     },
     "execution_count": 46,
     "metadata": {},
     "output_type": "execute_result"
    }
   ],
   "source": [
    "df_new1"
   ]
  },
  {
   "cell_type": "code",
   "execution_count": 47,
   "metadata": {},
   "outputs": [
    {
     "data": {
      "text/html": [
       "<div>\n",
       "<style scoped>\n",
       "    .dataframe tbody tr th:only-of-type {\n",
       "        vertical-align: middle;\n",
       "    }\n",
       "\n",
       "    .dataframe tbody tr th {\n",
       "        vertical-align: top;\n",
       "    }\n",
       "\n",
       "    .dataframe thead th {\n",
       "        text-align: right;\n",
       "    }\n",
       "</style>\n",
       "<table border=\"1\" class=\"dataframe\">\n",
       "  <thead>\n",
       "    <tr style=\"text-align: right;\">\n",
       "      <th></th>\n",
       "      <th>Reporting Period</th>\n",
       "      <th>Version</th>\n",
       "      <th>Generation Date</th>\n",
       "      <th>File</th>\n",
       "    </tr>\n",
       "  </thead>\n",
       "  <tbody>\n",
       "    <tr>\n",
       "      <th>0</th>\n",
       "      <td>2022</td>\n",
       "      <td>119</td>\n",
       "      <td>2023-12-09</td>\n",
       "      <td>2022-v119-09122023-EU MRV Publication of infor...</td>\n",
       "    </tr>\n",
       "    <tr>\n",
       "      <th>1</th>\n",
       "      <td>2021</td>\n",
       "      <td>179</td>\n",
       "      <td>2023-12-04</td>\n",
       "      <td>2021-v179-04122023-EU MRV Publication of infor...</td>\n",
       "    </tr>\n",
       "    <tr>\n",
       "      <th>2</th>\n",
       "      <td>2020</td>\n",
       "      <td>194</td>\n",
       "      <td>2023-10-11</td>\n",
       "      <td>2020-v194-11102023-EU MRV Publication of infor...</td>\n",
       "    </tr>\n",
       "    <tr>\n",
       "      <th>3</th>\n",
       "      <td>2019</td>\n",
       "      <td>217</td>\n",
       "      <td>2023-10-11</td>\n",
       "      <td>2019-v217-11102023-EU MRV Publication of infor...</td>\n",
       "    </tr>\n",
       "    <tr>\n",
       "      <th>4</th>\n",
       "      <td>2018</td>\n",
       "      <td>270</td>\n",
       "      <td>2023-10-11</td>\n",
       "      <td>2018-v270-11102023-EU MRV Publication of infor...</td>\n",
       "    </tr>\n",
       "  </tbody>\n",
       "</table>\n",
       "</div>"
      ],
      "text/plain": [
       "   Reporting Period  Version Generation Date  \\\n",
       "0              2022      119      2023-12-09   \n",
       "1              2021      179      2023-12-04   \n",
       "2              2020      194      2023-10-11   \n",
       "3              2019      217      2023-10-11   \n",
       "4              2018      270      2023-10-11   \n",
       "\n",
       "                                                File  \n",
       "0  2022-v119-09122023-EU MRV Publication of infor...  \n",
       "1  2021-v179-04122023-EU MRV Publication of infor...  \n",
       "2  2020-v194-11102023-EU MRV Publication of infor...  \n",
       "3  2019-v217-11102023-EU MRV Publication of infor...  \n",
       "4  2018-v270-11102023-EU MRV Publication of infor...  "
      ]
     },
     "execution_count": 47,
     "metadata": {},
     "output_type": "execute_result"
    }
   ],
   "source": [
    "reports_df_old"
   ]
  },
  {
   "cell_type": "code",
   "execution_count": 48,
   "metadata": {},
   "outputs": [],
   "source": [
    "merged_df = pd.merge(\n",
    "    reports_df_old, df_new1, on=\"Reporting Period\", how=\"outer\", suffixes=(\"_current\", \"_new\")\n",
    ")\n",
    "new_versions = merged_df[merged_df[\"Version_new\"] > merged_df[\"Version_current\"]]"
   ]
  },
  {
   "cell_type": "code",
   "execution_count": 49,
   "metadata": {},
   "outputs": [
    {
     "data": {
      "text/html": [
       "<div>\n",
       "<style scoped>\n",
       "    .dataframe tbody tr th:only-of-type {\n",
       "        vertical-align: middle;\n",
       "    }\n",
       "\n",
       "    .dataframe tbody tr th {\n",
       "        vertical-align: top;\n",
       "    }\n",
       "\n",
       "    .dataframe thead th {\n",
       "        text-align: right;\n",
       "    }\n",
       "</style>\n",
       "<table border=\"1\" class=\"dataframe\">\n",
       "  <thead>\n",
       "    <tr style=\"text-align: right;\">\n",
       "      <th></th>\n",
       "      <th>Reporting Period</th>\n",
       "      <th>Version_current</th>\n",
       "      <th>Generation Date_current</th>\n",
       "      <th>File_current</th>\n",
       "      <th>Version_new</th>\n",
       "      <th>Generation Date_new</th>\n",
       "      <th>File_new</th>\n",
       "    </tr>\n",
       "  </thead>\n",
       "  <tbody>\n",
       "  </tbody>\n",
       "</table>\n",
       "</div>"
      ],
      "text/plain": [
       "Empty DataFrame\n",
       "Columns: [Reporting Period, Version_current, Generation Date_current, File_current, Version_new, Generation Date_new, File_new]\n",
       "Index: []"
      ]
     },
     "execution_count": 49,
     "metadata": {},
     "output_type": "execute_result"
    }
   ],
   "source": [
    "new_versions"
   ]
  }
 ],
 "metadata": {
  "kernelspec": {
   "display_name": "carbonchain_env",
   "language": "python",
   "name": "python3"
  },
  "language_info": {
   "codemirror_mode": {
    "name": "ipython",
    "version": 3
   },
   "file_extension": ".py",
   "mimetype": "text/x-python",
   "name": "python",
   "nbconvert_exporter": "python",
   "pygments_lexer": "ipython3",
   "version": "3.9.16"
  }
 },
 "nbformat": 4,
 "nbformat_minor": 2
}
