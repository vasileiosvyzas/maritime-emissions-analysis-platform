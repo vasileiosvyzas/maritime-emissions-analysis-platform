{
 "cells": [
  {
   "cell_type": "code",
   "execution_count": 1,
   "metadata": {},
   "outputs": [],
   "source": [
    "import json\n",
    "import re\n",
    "import os\n",
    "\n",
    "import boto3\n",
    "import awswrangler as wr\n",
    "import pandas as pd\n",
    "import numpy as np\n",
    "\n",
    "from dataclasses import dataclass"
   ]
  },
  {
   "cell_type": "markdown",
   "metadata": {},
   "source": [
    "# Define a class for the ship particulars"
   ]
  },
  {
   "cell_type": "code",
   "execution_count": 2,
   "metadata": {},
   "outputs": [],
   "source": [
    "@dataclass\n",
    "class ShipTechnicalSpecs:\n",
    "    IMO_number: str\n",
    "    # call_sign: str\n",
    "    # mmsi: str\n",
    "    # flag: str\n",
    "    built_year: str\n",
    "    length: str\n",
    "    beam: str\n",
    "    # depth: str\n",
    "    # draft: str\n",
    "    gross_tonnage: str\n",
    "    # net_tonnage: str\n",
    "    # engines: str\n",
    "    # propulsion: str\n",
    "    # speed: str\n",
    "    dwt: str\n",
    "    # capacity: str"
   ]
  },
  {
   "cell_type": "code",
   "execution_count": 64,
   "metadata": {},
   "outputs": [],
   "source": [
    "def extract_field(value, field_name):\n",
    "    pattern = {\n",
    "        \"IMO\": r\"IMO number:\\s*(\\d+)\",\n",
    "        \"Call Sign\": r\"Call\\s?sign[:\\s]*([A-Za-z0-9]+)\",\n",
    "        \"MMSI\": r\"MMSI number[:\\s]*([A-Za-z0-9]+)\",\n",
    "        \"GT\": r\"(\\d{1,3}(?:,\\d{3})*(?:\\.\\d+)?)[\\s\\u00A0]*(?:GT|GRT)\",\n",
    "        \"NT\": r\"(\\d{1,3}(?:,\\d{3})*(?:\\.\\d+)?)[\\s\\u00A0]*NT\",\n",
    "        \"DWT\": r\"(\\d{1,3}(?:,\\d{3})*(?:\\.\\d+)?)[\\s\\u00A0]*(?:t[\\s\\u00A0]*)?DWT\"\n",
    "    }\n",
    "    match = re.search(pattern.get(field_name, \"\"), value, re.IGNORECASE)\n",
    "    if match:\n",
    "        return match.group(1).replace(\",\", \"\")  # Remove commas from the numeric value\n",
    "    return \"N/A\""
   ]
  },
  {
   "cell_type": "code",
   "execution_count": 35,
   "metadata": {},
   "outputs": [],
   "source": [
    "def get_year(ship_details, name1:str, name2:str):\n",
    "    year_of_completion = ship_details.get(name1, \"\")\n",
    "    if year_of_completion:\n",
    "        return year_of_completion\n",
    "    \n",
    "    return ship_details.get(name2, \"Missing\")"
   ]
  },
  {
   "cell_type": "code",
   "execution_count": 8,
   "metadata": {},
   "outputs": [],
   "source": [
    "def get_similar_values(ship_details, name1:str, name2:str):\n",
    "    beam = ship_details.get(name1, \"\")\n",
    "    if beam:\n",
    "        match = re.search(r\"\\d+\\.?\\d*\\s*m\", beam, re.IGNORECASE)\n",
    "        if match:\n",
    "            return match.group(0)\n",
    "    \n",
    "    # Try Breadth dictionary format\n",
    "    return ship_details.get(name2, \"Missing\")"
   ]
  },
  {
   "cell_type": "code",
   "execution_count": 5,
   "metadata": {},
   "outputs": [],
   "source": [
    "def get_tonnage_value(ship_details, primary_field, backup_field, regex_pattern):\n",
    "    direct_value = ship_details.get(backup_field)\n",
    "    if direct_value and direct_value != \"Missing\":\n",
    "        return str(direct_value)\n",
    "    \n",
    "    tonnage = ship_details.get(\"Tonnage\", \"\")\n",
    "    if tonnage:\n",
    "        extracted = extract_field(tonnage, regex_pattern)\n",
    "        if extracted != \"N/A\":\n",
    "            return extracted\n",
    "            \n",
    "    return \"Missing\""
   ]
  },
  {
   "cell_type": "code",
   "execution_count": 65,
   "metadata": {},
   "outputs": [],
   "source": [
    "def process_ship_data(ship_data):\n",
    "    processed_data = []\n",
    "\n",
    "    for imo_number, ship_details in ship_data.items():\n",
    "        imo_number = imo_number\n",
    "        \n",
    "        identification = ship_details.get(\"Identification\", \"Missing\")\n",
    "        # mmsi = extract_field(identification, \"MMSI\")\n",
    "        # call_sign = extract_field(identification, \"Call Sign\")\n",
    "        \n",
    "        # flag = ship_details.get(\"Flag\", \"Missing\")\n",
    "        # built_year = ship_details.get(\"Built year\", \"Missing\")\n",
    "        built_year = get_year(ship_details, \"Completed\", \"Built year\")\n",
    "        # displacement = ship_details.get(\"Displacement\", \"Missing\")\n",
    "        # length = ship_details.get(\"Length\", \"Missing\")\n",
    "        length = get_similar_values(ship_details, \"Length\", \"Length (m)\")\n",
    "        # beam = ship_details.get(\"Beam\", \"Missing\") or ship_details.get(\"Breadth\", \"Missing\")\n",
    "        beam = get_similar_values(ship_details, \"Beam\", \"Breadth (m)\")\n",
    "        # breadth = ship_details.get(\"Breadth\", \"Missing\")\n",
    "        # depth = ship_details.get(\"Depth\", \"Missing\")\n",
    "        # draft = ship_details.get(\"Draft\", \"Missing\") or ship_details.get(\"Draught\", \"Missing\")\n",
    "        # draft = get_similar_values(ship_details, \"Draft\", \"Draught\")\n",
    "        # draught = ship_details.get(\"Draught\", \"Missing\")\n",
    "        \n",
    "        # tonnage = ship_details.get(\"Tonnage\", \"Missing\")\n",
    "        # gross_tonnage = extract_field(tonnage, \"GT\") or ship_details.get(\"grossTonnage\", \"Missing\")\n",
    "        # net_tonnage = extract_field(tonnage, \"NT\") or ship_details.get(\"netTonnage\", \"Missing\")\n",
    "        # deadweight = extract_field(tonnage, \"DWT\") or ship_details.get(\"DWT\", \"Missing\")\n",
    "        \n",
    "        gross_tonnage = get_tonnage_value(ship_details, \"Tonnage\", \"grossTonnage\", \"GT\")\n",
    "        # net_tonnage = get_tonnage_value(ship_details, \"netTonnage\", \"NT\", \"NT\")\n",
    "        deadweight = get_tonnage_value(ship_details, \"DWT\", \"deadweight\", \"DWT\")\n",
    "        \n",
    "        # engines = ship_details.get(\"Installed power\", \"Missing\")\n",
    "        # propulsion = ship_details.get(\"Propulsion\", \"Missing\")\n",
    "        # speed = ship_details.get(\"Speed\", \"Missing\")\n",
    "        # capacity = ship_details.get(\"Capacity\", \"Missing\")\n",
    "        \n",
    "        ship = ShipTechnicalSpecs(\n",
    "            IMO_number=imo_number,\n",
    "            # mmsi=mmsi,\n",
    "            # call_sign=call_sign,\n",
    "            # flag=flag,\n",
    "            built_year=built_year,\n",
    "            length=length,\n",
    "            beam=beam,\n",
    "            # depth=depth,\n",
    "            # draft=draft,\n",
    "            gross_tonnage=gross_tonnage,\n",
    "            # net_tonnage=net_tonnage,\n",
    "            dwt=deadweight,\n",
    "            # engines=engines,\n",
    "            # propulsion=propulsion,\n",
    "            # speed=speed,\n",
    "            # capacity=capacity\n",
    "        )\n",
    "        processed_data.append(ship)\n",
    "    return processed_data"
   ]
  },
  {
   "cell_type": "code",
   "execution_count": 90,
   "metadata": {},
   "outputs": [],
   "source": [
    "file_names = [\"wikipedia_ship_data_v2\", \"pleiades_fleet_v2\"]\n",
    "dataframes = []\n",
    "\n",
    "for name in file_names:\n",
    "    with open(f'../data/raw/ship_particulars/{name}.json', 'r') as f:\n",
    "        data = json.load(f)\n",
    "        processed_data = process_ship_data(data)\n",
    "        output_data = [ship.__dict__ for ship in processed_data]\n",
    "        dataframes.append(pd.DataFrame(output_data))"
   ]
  },
  {
   "cell_type": "code",
   "execution_count": 91,
   "metadata": {},
   "outputs": [],
   "source": [
    "df = pd.concat(dataframes, ignore_index=True)"
   ]
  },
  {
   "cell_type": "code",
   "execution_count": 92,
   "metadata": {},
   "outputs": [
    {
     "data": {
      "text/html": [
       "<div>\n",
       "<style scoped>\n",
       "    .dataframe tbody tr th:only-of-type {\n",
       "        vertical-align: middle;\n",
       "    }\n",
       "\n",
       "    .dataframe tbody tr th {\n",
       "        vertical-align: top;\n",
       "    }\n",
       "\n",
       "    .dataframe thead th {\n",
       "        text-align: right;\n",
       "    }\n",
       "</style>\n",
       "<table border=\"1\" class=\"dataframe\">\n",
       "  <thead>\n",
       "    <tr style=\"text-align: right;\">\n",
       "      <th></th>\n",
       "      <th>IMO_number</th>\n",
       "      <th>built_year</th>\n",
       "      <th>length</th>\n",
       "      <th>beam</th>\n",
       "      <th>gross_tonnage</th>\n",
       "      <th>dwt</th>\n",
       "    </tr>\n",
       "  </thead>\n",
       "  <tbody>\n",
       "    <tr>\n",
       "      <th>0</th>\n",
       "      <td>1007213</td>\n",
       "      <td>2003</td>\n",
       "      <td>126.20 m</td>\n",
       "      <td>21.00 m</td>\n",
       "      <td>9932</td>\n",
       "      <td>Missing</td>\n",
       "    </tr>\n",
       "    <tr>\n",
       "      <th>1</th>\n",
       "      <td>6602898</td>\n",
       "      <td>1966</td>\n",
       "      <td>135 m</td>\n",
       "      <td>15.8 m</td>\n",
       "      <td>10417</td>\n",
       "      <td>Missing</td>\n",
       "    </tr>\n",
       "    <tr>\n",
       "      <th>2</th>\n",
       "      <td>7037806</td>\n",
       "      <td>1971</td>\n",
       "      <td>123.40 m</td>\n",
       "      <td>19.20 m</td>\n",
       "      <td>9149</td>\n",
       "      <td>Missing</td>\n",
       "    </tr>\n",
       "    <tr>\n",
       "      <th>3</th>\n",
       "      <td>7207451</td>\n",
       "      <td>February 1975</td>\n",
       "      <td>114.59 m</td>\n",
       "      <td>18.62 m</td>\n",
       "      <td>4649</td>\n",
       "      <td>Missing</td>\n",
       "    </tr>\n",
       "    <tr>\n",
       "      <th>4</th>\n",
       "      <td>7350090</td>\n",
       "      <td>6 September 1974</td>\n",
       "      <td>118 m</td>\n",
       "      <td>20 m</td>\n",
       "      <td>4774</td>\n",
       "      <td>Missing</td>\n",
       "    </tr>\n",
       "    <tr>\n",
       "      <th>...</th>\n",
       "      <td>...</td>\n",
       "      <td>...</td>\n",
       "      <td>...</td>\n",
       "      <td>...</td>\n",
       "      <td>...</td>\n",
       "      <td>...</td>\n",
       "    </tr>\n",
       "    <tr>\n",
       "      <th>478</th>\n",
       "      <td>9912854</td>\n",
       "      <td>2022</td>\n",
       "      <td>249.9</td>\n",
       "      <td>44.0</td>\n",
       "      <td>62809</td>\n",
       "      <td>Missing</td>\n",
       "    </tr>\n",
       "    <tr>\n",
       "      <th>479</th>\n",
       "      <td>9923009</td>\n",
       "      <td>2022</td>\n",
       "      <td>249.9</td>\n",
       "      <td>44.0</td>\n",
       "      <td>62568</td>\n",
       "      <td>Missing</td>\n",
       "    </tr>\n",
       "    <tr>\n",
       "      <th>480</th>\n",
       "      <td>9930624</td>\n",
       "      <td>2023</td>\n",
       "      <td>249.9</td>\n",
       "      <td>44.0</td>\n",
       "      <td>62694</td>\n",
       "      <td>Missing</td>\n",
       "    </tr>\n",
       "    <tr>\n",
       "      <th>481</th>\n",
       "      <td>9935143</td>\n",
       "      <td>2023</td>\n",
       "      <td>249.9</td>\n",
       "      <td>44.0</td>\n",
       "      <td>62955</td>\n",
       "      <td>Missing</td>\n",
       "    </tr>\n",
       "    <tr>\n",
       "      <th>482</th>\n",
       "      <td>9309253</td>\n",
       "      <td>2006</td>\n",
       "      <td>213.354</td>\n",
       "      <td>32.292</td>\n",
       "      <td>35711</td>\n",
       "      <td>Missing</td>\n",
       "    </tr>\n",
       "  </tbody>\n",
       "</table>\n",
       "<p>483 rows × 6 columns</p>\n",
       "</div>"
      ],
      "text/plain": [
       "    IMO_number        built_year    length     beam gross_tonnage      dwt\n",
       "0      1007213              2003  126.20 m  21.00 m          9932  Missing\n",
       "1      6602898              1966     135 m   15.8 m         10417  Missing\n",
       "2      7037806              1971  123.40 m  19.20 m          9149  Missing\n",
       "3      7207451     February 1975  114.59 m  18.62 m          4649  Missing\n",
       "4      7350090  6 September 1974     118 m     20 m          4774  Missing\n",
       "..         ...               ...       ...      ...           ...      ...\n",
       "478    9912854              2022     249.9     44.0         62809  Missing\n",
       "479    9923009              2022     249.9     44.0         62568  Missing\n",
       "480    9930624              2023     249.9     44.0         62694  Missing\n",
       "481    9935143              2023     249.9     44.0         62955  Missing\n",
       "482    9309253              2006   213.354   32.292         35711  Missing\n",
       "\n",
       "[483 rows x 6 columns]"
      ]
     },
     "execution_count": 92,
     "metadata": {},
     "output_type": "execute_result"
    }
   ],
   "source": [
    "df"
   ]
  },
  {
   "cell_type": "code",
   "execution_count": 93,
   "metadata": {},
   "outputs": [
    {
     "data": {
      "text/plain": [
       "Missing    264\n",
       "2700         5\n",
       "54549        5\n",
       "185000       4\n",
       "156907       4\n",
       "          ... \n",
       "5493         1\n",
       "680          1\n",
       "4700         1\n",
       "4768         1\n",
       "106045       1\n",
       "Name: dwt, Length: 177, dtype: int64"
      ]
     },
     "execution_count": 93,
     "metadata": {},
     "output_type": "execute_result"
    }
   ],
   "source": [
    "df['dwt'].value_counts(dropna=False)"
   ]
  },
  {
   "cell_type": "code",
   "execution_count": 102,
   "metadata": {},
   "outputs": [
    {
     "data": {
      "text/html": [
       "<div>\n",
       "<style scoped>\n",
       "    .dataframe tbody tr th:only-of-type {\n",
       "        vertical-align: middle;\n",
       "    }\n",
       "\n",
       "    .dataframe tbody tr th {\n",
       "        vertical-align: top;\n",
       "    }\n",
       "\n",
       "    .dataframe thead th {\n",
       "        text-align: right;\n",
       "    }\n",
       "</style>\n",
       "<table border=\"1\" class=\"dataframe\">\n",
       "  <thead>\n",
       "    <tr style=\"text-align: right;\">\n",
       "      <th></th>\n",
       "      <th>IMO_number</th>\n",
       "      <th>dwt</th>\n",
       "    </tr>\n",
       "  </thead>\n",
       "  <tbody>\n",
       "    <tr>\n",
       "      <th>0</th>\n",
       "      <td>1007213</td>\n",
       "      <td>Missing</td>\n",
       "    </tr>\n",
       "    <tr>\n",
       "      <th>1</th>\n",
       "      <td>6602898</td>\n",
       "      <td>Missing</td>\n",
       "    </tr>\n",
       "    <tr>\n",
       "      <th>2</th>\n",
       "      <td>7037806</td>\n",
       "      <td>Missing</td>\n",
       "    </tr>\n",
       "    <tr>\n",
       "      <th>3</th>\n",
       "      <td>7207451</td>\n",
       "      <td>Missing</td>\n",
       "    </tr>\n",
       "    <tr>\n",
       "      <th>4</th>\n",
       "      <td>7350090</td>\n",
       "      <td>Missing</td>\n",
       "    </tr>\n",
       "    <tr>\n",
       "      <th>...</th>\n",
       "      <td>...</td>\n",
       "      <td>...</td>\n",
       "    </tr>\n",
       "    <tr>\n",
       "      <th>478</th>\n",
       "      <td>9912854</td>\n",
       "      <td>Missing</td>\n",
       "    </tr>\n",
       "    <tr>\n",
       "      <th>479</th>\n",
       "      <td>9923009</td>\n",
       "      <td>Missing</td>\n",
       "    </tr>\n",
       "    <tr>\n",
       "      <th>480</th>\n",
       "      <td>9930624</td>\n",
       "      <td>Missing</td>\n",
       "    </tr>\n",
       "    <tr>\n",
       "      <th>481</th>\n",
       "      <td>9935143</td>\n",
       "      <td>Missing</td>\n",
       "    </tr>\n",
       "    <tr>\n",
       "      <th>482</th>\n",
       "      <td>9309253</td>\n",
       "      <td>Missing</td>\n",
       "    </tr>\n",
       "  </tbody>\n",
       "</table>\n",
       "<p>264 rows × 2 columns</p>\n",
       "</div>"
      ],
      "text/plain": [
       "    IMO_number      dwt\n",
       "0      1007213  Missing\n",
       "1      6602898  Missing\n",
       "2      7037806  Missing\n",
       "3      7207451  Missing\n",
       "4      7350090  Missing\n",
       "..         ...      ...\n",
       "478    9912854  Missing\n",
       "479    9923009  Missing\n",
       "480    9930624  Missing\n",
       "481    9935143  Missing\n",
       "482    9309253  Missing\n",
       "\n",
       "[264 rows x 2 columns]"
      ]
     },
     "execution_count": 102,
     "metadata": {},
     "output_type": "execute_result"
    }
   ],
   "source": [
    "df[df['dwt'] == 'Missing'][['IMO_number', 'dwt']]"
   ]
  },
  {
   "cell_type": "code",
   "execution_count": 89,
   "metadata": {},
   "outputs": [
    {
     "data": {
      "text/html": [
       "<div>\n",
       "<style scoped>\n",
       "    .dataframe tbody tr th:only-of-type {\n",
       "        vertical-align: middle;\n",
       "    }\n",
       "\n",
       "    .dataframe tbody tr th {\n",
       "        vertical-align: top;\n",
       "    }\n",
       "\n",
       "    .dataframe thead th {\n",
       "        text-align: right;\n",
       "    }\n",
       "</style>\n",
       "<table border=\"1\" class=\"dataframe\">\n",
       "  <thead>\n",
       "    <tr style=\"text-align: right;\">\n",
       "      <th></th>\n",
       "      <th>IMO_number</th>\n",
       "      <th>built_year</th>\n",
       "      <th>length</th>\n",
       "      <th>beam</th>\n",
       "      <th>gross_tonnage</th>\n",
       "      <th>dwt</th>\n",
       "    </tr>\n",
       "  </thead>\n",
       "  <tbody>\n",
       "    <tr>\n",
       "      <th>471</th>\n",
       "      <td>9384992</td>\n",
       "      <td>Missing</td>\n",
       "      <td>230.0 m</td>\n",
       "      <td>42.0 m</td>\n",
       "      <td>57462</td>\n",
       "      <td>106045</td>\n",
       "    </tr>\n",
       "  </tbody>\n",
       "</table>\n",
       "</div>"
      ],
      "text/plain": [
       "    IMO_number built_year   length    beam gross_tonnage     dwt\n",
       "471    9384992    Missing  230.0 m  42.0 m         57462  106045"
      ]
     },
     "execution_count": 89,
     "metadata": {},
     "output_type": "execute_result"
    }
   ],
   "source": [
    "df[df['IMO_number'] == '9384992']"
   ]
  },
  {
   "cell_type": "code",
   "execution_count": 100,
   "metadata": {},
   "outputs": [],
   "source": [
    "import time, random"
   ]
  },
  {
   "cell_type": "code",
   "execution_count": null,
   "metadata": {},
   "outputs": [],
   "source": [
    "df['beam'].value_counts(dropna=False)"
   ]
  },
  {
   "cell_type": "code",
   "execution_count": 13,
   "metadata": {},
   "outputs": [],
   "source": [
    "regex_pattern = r'(\\d+(\\.\\d+)?)\\s*m'\n",
    "df['length (m)'] = df['length'].str.extract(regex_pattern)[0]\n",
    "df['beam (m)'] = df['beam'].str.extract(regex_pattern)[0]\n",
    "df['depth (m)'] = df['depth'].str.extract(regex_pattern)[0]\n",
    "df['draft (m)'] = df['draft'].str.extract(regex_pattern)[0]"
   ]
  },
  {
   "cell_type": "code",
   "execution_count": null,
   "metadata": {},
   "outputs": [],
   "source": [
    "df"
   ]
  },
  {
   "cell_type": "code",
   "execution_count": 14,
   "metadata": {},
   "outputs": [],
   "source": [
    "df.drop(['length', 'beam', 'depth', 'draft'], axis=1, inplace=True)"
   ]
  },
  {
   "cell_type": "code",
   "execution_count": 18,
   "metadata": {},
   "outputs": [],
   "source": [
    "df.replace('Missing', np.nan, inplace=True)"
   ]
  },
  {
   "cell_type": "code",
   "execution_count": 19,
   "metadata": {},
   "outputs": [],
   "source": [
    "df.replace('N/A', np.nan, inplace=True)"
   ]
  },
  {
   "cell_type": "code",
   "execution_count": null,
   "metadata": {},
   "outputs": [],
   "source": [
    "df"
   ]
  },
  {
   "cell_type": "code",
   "execution_count": 21,
   "metadata": {},
   "outputs": [],
   "source": [
    "df['IMO_number'] = df['IMO_number'].astype(int)"
   ]
  },
  {
   "cell_type": "code",
   "execution_count": null,
   "metadata": {},
   "outputs": [],
   "source": [
    "df.dtypes"
   ]
  },
  {
   "cell_type": "code",
   "execution_count": 24,
   "metadata": {},
   "outputs": [],
   "source": [
    "import sdv\n",
    "from sdv.metadata import Metadata"
   ]
  },
  {
   "cell_type": "code",
   "execution_count": 25,
   "metadata": {},
   "outputs": [],
   "source": [
    "metadata = Metadata.detect_from_dataframe(\n",
    "    data=df,\n",
    "    table_name='ship_specs')"
   ]
  },
  {
   "cell_type": "code",
   "execution_count": null,
   "metadata": {},
   "outputs": [],
   "source": [
    "from sdv.single_table import GaussianCopulaSynthesizer\n",
    "\n",
    "synthesizer = GaussianCopulaSynthesizer(metadata)\n",
    "\n",
    "# Step 2: Train the synthesizer\n",
    "synthesizer.fit(df)\n",
    "\n",
    "# Step 3: Generate synthetic data\n",
    "synthetic_data = synthesizer.sample(num_rows=100)"
   ]
  },
  {
   "cell_type": "code",
   "execution_count": null,
   "metadata": {},
   "outputs": [],
   "source": [
    "synthetic_data.head()"
   ]
  }
 ],
 "metadata": {
  "kernelspec": {
   "display_name": "carbonchain_env",
   "language": "python",
   "name": "python3"
  },
  "language_info": {
   "codemirror_mode": {
    "name": "ipython",
    "version": 3
   },
   "file_extension": ".py",
   "mimetype": "text/x-python",
   "name": "python",
   "nbconvert_exporter": "python",
   "pygments_lexer": "ipython3",
   "version": "3.9.16"
  }
 },
 "nbformat": 4,
 "nbformat_minor": 2
}
